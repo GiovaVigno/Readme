{
 "cells": [
  {
   "cell_type": "markdown",
   "metadata": {},
   "source": [
    "*Contenuti*\n",
    "===\n",
    "- [Liste](#Liste)\n",
    "    - [Dimensione e accesso indicizzato](#Dimensione-e-accesso-indicizzato)\n",
    "    - [Lista vuota, aggiunta, inserimento, modifica e cancellazione](#Lista-vuota,-aggiunta,-inserimento,-modifica-e-cancellazione)\n",
    "    - [Estrazione e svuotamento](#Estrazione-e-svuotamento)\n",
    "    - [Ricerca](#Ricerca)\n",
    "    - [Ordinamento](#Ordinamento)\n",
    "    - [Operatori aggregati](#Operatori-aggregati)\n",
    "        - [*Esercizio 1*](#Esercizio-1)\n",
    "    - [Liste di tipo misto](#Liste-di-tipo-misto)\n",
    "    - [*Slicing* e copia](#Slicing-e-copia)\n",
    "    - [*Esercizio 2*](#Esercizio-2)\n",
    "- [Cicli *for*](#Cicli-for)\n",
    "    - [Enumerazione](#Enumerazione)\n",
    "    - [*Esercizio 3*](#Esercizio-3)\n",
    "    - [Comprensioni di liste](#Comprensioni-di-liste)\n",
    "    - [*Esercizio 4*](#Esercizio-4)"
   ]
  },
  {
   "cell_type": "markdown",
   "metadata": {},
   "source": [
    "Liste\n",
    "===\n",
    "Una *lista* è una collezione ordinata di oggetti contenuta in una variabile."
   ]
  },
  {
   "cell_type": "code",
   "execution_count": 1,
   "metadata": {},
   "outputs": [
    {
     "name": "stdout",
     "output_type": "stream",
     "text": [
      "<class 'list'>\n",
      "['triangle', 'square', 'circle', 'hexagon']\n"
     ]
    }
   ],
   "source": [
    "shapes = ['triangle', 'square', 'circle', 'hexagon']\n",
    "print(type(shapes))\n",
    "print(shapes)"
   ]
  },
  {
   "cell_type": "markdown",
   "metadata": {},
   "source": [
    "Dimensione e accesso indicizzato\n",
    "---\n",
    "La *dimensione* di una lista si ottiene attraverso la funzione *len* (da *length*, lunghezza in inglese)."
   ]
  },
  {
   "cell_type": "code",
   "execution_count": 2,
   "metadata": {},
   "outputs": [
    {
     "name": "stdout",
     "output_type": "stream",
     "text": [
      "4\n"
     ]
    }
   ],
   "source": [
    "print(len(shapes))"
   ]
  },
  {
   "cell_type": "markdown",
   "metadata": {},
   "source": [
    "Si può accedere ad una lista attraverso un indice intero: la prima posizione ha indice 0, l'ultima len-1."
   ]
  },
  {
   "cell_type": "code",
   "execution_count": 4,
   "metadata": {},
   "outputs": [
    {
     "name": "stdout",
     "output_type": "stream",
     "text": [
      "triangle\n",
      "square\n",
      "hexagon\n"
     ]
    }
   ],
   "source": [
    "print(shapes[0])\n",
    "print(shapes[1])\n",
    "print(shapes[len(shapes)-1])"
   ]
  },
  {
   "cell_type": "markdown",
   "metadata": {},
   "source": [
    "Si possono usare indici negativi per accedere comodamente agli ultimi elementi."
   ]
  },
  {
   "cell_type": "code",
   "execution_count": 5,
   "metadata": {},
   "outputs": [
    {
     "name": "stdout",
     "output_type": "stream",
     "text": [
      "hexagon\n",
      "circle\n"
     ]
    }
   ],
   "source": [
    "print(shapes[-1])#ultimo\n",
    "print(shapes[-2])#penultimo"
   ]
  },
  {
   "cell_type": "markdown",
   "metadata": {},
   "source": [
    "Lista vuota, aggiunta, inserimento, modifica e cancellazione\n",
    "---\n",
    "Si può creare una lista vuota e aggiungervi elementi successivamente."
   ]
  },
  {
   "cell_type": "code",
   "execution_count": 6,
   "metadata": {},
   "outputs": [
    {
     "name": "stdout",
     "output_type": "stream",
     "text": [
      "[]\n",
      "['triangle']\n"
     ]
    }
   ],
   "source": [
    "shapes = []#lista vuota\n",
    "print(shapes)\n",
    "shapes.append('triangle')#aggiunta\n",
    "print(shapes)"
   ]
  },
  {
   "cell_type": "markdown",
   "metadata": {},
   "source": [
    "Gli operatori sono interpretati da Python in modo dinamico."
   ]
  },
  {
   "cell_type": "code",
   "execution_count": 7,
   "metadata": {},
   "outputs": [
    {
     "name": "stdout",
     "output_type": "stream",
     "text": [
      "['triangle', 'square']\n"
     ]
    }
   ],
   "source": [
    "shapes = shapes + ['square']#aggiunta con operatore '+'\n",
    "print(shapes)"
   ]
  },
  {
   "cell_type": "code",
   "execution_count": 8,
   "metadata": {},
   "outputs": [
    {
     "name": "stdout",
     "output_type": "stream",
     "text": [
      "5\n"
     ]
    }
   ],
   "source": [
    "a = 0\n",
    "a += 5#somma compatta\n",
    "print(a)"
   ]
  },
  {
   "cell_type": "code",
   "execution_count": 9,
   "metadata": {},
   "outputs": [
    {
     "name": "stdout",
     "output_type": "stream",
     "text": [
      "['triangle', 'square', 'circle']\n"
     ]
    }
   ],
   "source": [
    "shapes += ['circle']#aggiunta compatta\n",
    "print(shapes)"
   ]
  },
  {
   "cell_type": "markdown",
   "metadata": {},
   "source": [
    "Si possono inserire elementi in posizione specifica. Tutti quelli successivi saranno spostati sulla destra, e la dimensione della lista aumenterà di 1."
   ]
  },
  {
   "cell_type": "code",
   "execution_count": 10,
   "metadata": {},
   "outputs": [
    {
     "name": "stdout",
     "output_type": "stream",
     "text": [
      "['triangle', 'square', 'hexagon', 'circle']\n"
     ]
    }
   ],
   "source": [
    "shapes.insert(2, 'hexagon')#inserimento in posizione 2\n",
    "print(shapes)"
   ]
  },
  {
   "cell_type": "markdown",
   "metadata": {},
   "source": [
    "Gli elementi di una lista possono essere modificati in qualsiasi momento."
   ]
  },
  {
   "cell_type": "code",
   "execution_count": 11,
   "metadata": {},
   "outputs": [
    {
     "name": "stdout",
     "output_type": "stream",
     "text": [
      "['rectangle', 'square', 'hexagon', 'circle']\n"
     ]
    }
   ],
   "source": [
    "shapes[0] = 'rectangle'#modifica\n",
    "print(shapes)"
   ]
  },
  {
   "cell_type": "markdown",
   "metadata": {},
   "source": [
    "Per cancellare un elemento della lista si usa la funzione *remove*."
   ]
  },
  {
   "cell_type": "code",
   "execution_count": 12,
   "metadata": {},
   "outputs": [
    {
     "name": "stdout",
     "output_type": "stream",
     "text": [
      "['rectangle', 'square', 'circle']\n"
     ]
    }
   ],
   "source": [
    "shapes.remove('hexagon')\n",
    "print(shapes)"
   ]
  },
  {
   "cell_type": "markdown",
   "metadata": {},
   "source": [
    "Estrazione e svuotamento\n",
    "---\n",
    "La funzione *pop* estrae l'ultimo elemento."
   ]
  },
  {
   "cell_type": "code",
   "execution_count": 13,
   "metadata": {},
   "outputs": [
    {
     "name": "stdout",
     "output_type": "stream",
     "text": [
      "['rectangle', 'square']\n",
      "circle\n"
     ]
    }
   ],
   "source": [
    "last_element = shapes.pop()\n",
    "print(shapes)\n",
    "print(last_element)"
   ]
  },
  {
   "cell_type": "markdown",
   "metadata": {},
   "source": [
    "La lista si può svuotare con la funzione *clear*."
   ]
  },
  {
   "cell_type": "code",
   "execution_count": 14,
   "metadata": {},
   "outputs": [
    {
     "name": "stdout",
     "output_type": "stream",
     "text": [
      "[]\n"
     ]
    }
   ],
   "source": [
    "shapes.clear()#svuotamento\n",
    "print(shapes)"
   ]
  },
  {
   "cell_type": "markdown",
   "metadata": {},
   "source": [
    "Ricerca\n",
    "---\n",
    "Se si cerca un oggetto preciso nella lista, si può controllare che vi sia contenuto e in quale posizione."
   ]
  },
  {
   "cell_type": "code",
   "execution_count": 1,
   "metadata": {},
   "outputs": [
    {
     "name": "stdout",
     "output_type": "stream",
     "text": [
      "True\n"
     ]
    }
   ],
   "source": [
    "shapes = ['triangle', 'square', 'circle', 'hexagon']\n",
    "print('square' in shapes)"
   ]
  },
  {
   "cell_type": "code",
   "execution_count": 2,
   "metadata": {},
   "outputs": [
    {
     "name": "stdout",
     "output_type": "stream",
     "text": [
      "1\n"
     ]
    }
   ],
   "source": [
    "print(shapes.index('square'))"
   ]
  },
  {
   "cell_type": "code",
   "execution_count": 3,
   "metadata": {},
   "outputs": [
    {
     "name": "stdout",
     "output_type": "stream",
     "text": [
      "False\n"
     ]
    }
   ],
   "source": [
    "print('rectangle' in shapes)"
   ]
  },
  {
   "cell_type": "code",
   "execution_count": 18,
   "metadata": {},
   "outputs": [
    {
     "ename": "ValueError",
     "evalue": "'rectangle' is not in list",
     "output_type": "error",
     "traceback": [
      "\u001b[0;31m---------------------------------------------------------------------------\u001b[0m",
      "\u001b[0;31mValueError\u001b[0m                                Traceback (most recent call last)",
      "\u001b[0;32m<ipython-input-18-81ce8cf24cf5>\u001b[0m in \u001b[0;36m<module>\u001b[0;34m\u001b[0m\n\u001b[0;32m----> 1\u001b[0;31m \u001b[0mprint\u001b[0m\u001b[0;34m(\u001b[0m\u001b[0mshapes\u001b[0m\u001b[0;34m.\u001b[0m\u001b[0mindex\u001b[0m\u001b[0;34m(\u001b[0m\u001b[0;34m'rectangle'\u001b[0m\u001b[0;34m)\u001b[0m\u001b[0;34m)\u001b[0m\u001b[0;34m\u001b[0m\u001b[0m\n\u001b[0m",
      "\u001b[0;31mValueError\u001b[0m: 'rectangle' is not in list"
     ]
    }
   ],
   "source": [
    "print(shapes.index('rectangle'))"
   ]
  },
  {
   "cell_type": "markdown",
   "metadata": {},
   "source": [
    "Ordinamento\n",
    "---\n",
    "Una lista può essere ordinata attraverso la funzione *sort* (del tipo lista) o *sorted* (built-in). Anche in questo caso, è Python che interpreta l'operazione in modo dinamico in base al tipo di variabili contenute nella lista. Nel caso delle stringhe, l'ordinamento sarà alfabetico."
   ]
  },
  {
   "cell_type": "code",
   "execution_count": 19,
   "metadata": {},
   "outputs": [
    {
     "name": "stdout",
     "output_type": "stream",
     "text": [
      "['circle', 'hexagon', 'square', 'triangle']\n"
     ]
    }
   ],
   "source": [
    "shapes = ['triangle', 'square', 'circle', 'hexagon']\n",
    "shapes.sort()#sort è 'in-place'\n",
    "print(shapes)"
   ]
  },
  {
   "cell_type": "code",
   "execution_count": 20,
   "metadata": {},
   "outputs": [
    {
     "name": "stdout",
     "output_type": "stream",
     "text": [
      "['circle', 'hexagon', 'square', 'triangle']\n"
     ]
    }
   ],
   "source": [
    "shapes = ['triangle', 'square', 'circle', 'hexagon']\n",
    "sorted_shapes = sorted(shapes)#sorted crea un'altra lista\n",
    "print(sorted_shapes)"
   ]
  },
  {
   "cell_type": "markdown",
   "metadata": {},
   "source": [
    "**Nota**: le operazione su liste (tranne quelle che operano *in-place*) creano *copie* della lista di partenza. Se si alterano gli elementi della nuova lista, questo non ha effetto su quella di partenza."
   ]
  },
  {
   "cell_type": "code",
   "execution_count": 21,
   "metadata": {},
   "outputs": [
    {
     "name": "stdout",
     "output_type": "stream",
     "text": [
      "['triangle', 'square', 'circle', 'hexagon']\n"
     ]
    }
   ],
   "source": [
    "print(shapes)"
   ]
  },
  {
   "cell_type": "code",
   "execution_count": 22,
   "metadata": {},
   "outputs": [
    {
     "name": "stdout",
     "output_type": "stream",
     "text": [
      "['rhombus', 'hexagon', 'square', 'triangle']\n"
     ]
    }
   ],
   "source": [
    "sorted_shapes[0] = 'rhombus'\n",
    "print(sorted_shapes)"
   ]
  },
  {
   "cell_type": "code",
   "execution_count": 23,
   "metadata": {},
   "outputs": [
    {
     "name": "stdout",
     "output_type": "stream",
     "text": [
      "['triangle', 'square', 'circle', 'hexagon']\n"
     ]
    }
   ],
   "source": [
    "print(shapes)"
   ]
  },
  {
   "cell_type": "markdown",
   "metadata": {},
   "source": [
    "Quanto detto vale anche per le liste numeriche. Per convenzione, l'ordinamento è crescente."
   ]
  },
  {
   "cell_type": "code",
   "execution_count": 24,
   "metadata": {},
   "outputs": [
    {
     "name": "stdout",
     "output_type": "stream",
     "text": [
      "[1, 3, 5, 6, 7, 8]\n"
     ]
    }
   ],
   "source": [
    "numbers = [3,6,1,7,8,5]\n",
    "print(sorted(numbers))"
   ]
  },
  {
   "cell_type": "markdown",
   "metadata": {},
   "source": [
    "Sia sorted che sort permettono l'ordinamento inverso."
   ]
  },
  {
   "cell_type": "code",
   "execution_count": 25,
   "metadata": {},
   "outputs": [
    {
     "name": "stdout",
     "output_type": "stream",
     "text": [
      "[8, 7, 6, 5, 3, 1]\n"
     ]
    }
   ],
   "source": [
    "numbers = [3,6,1,7,8,5]\n",
    "numbers.sort(reverse=True)\n",
    "print(numbers)"
   ]
  },
  {
   "cell_type": "code",
   "execution_count": 26,
   "metadata": {},
   "outputs": [
    {
     "name": "stdout",
     "output_type": "stream",
     "text": [
      "[8, 7, 6, 5, 3, 1]\n"
     ]
    }
   ],
   "source": [
    "numbers = [3,6,1,7,8,5]\n",
    "print(sorted(numbers, reverse=True))"
   ]
  },
  {
   "cell_type": "markdown",
   "metadata": {},
   "source": [
    "In entrambi i casi, *reverse* è *False* per default. Se non si specifica diversamente, l'ordinamento sarà quello naturale (dalla A alla Z, crescente, eccetera).\n",
    "\n",
    " Vedremo il significato di True e False nella Lezione 4, e quello degli argomenti opzionali di una funzione nella Lezione 5."
   ]
  },
  {
   "cell_type": "markdown",
   "metadata": {},
   "source": [
    "Operatori aggregati\n",
    "---\n",
    "E' possibile fare operazioni che coinvolgono tutti gli oggetti contenuti in una lista. Per quanto riguarda le liste numeriche, ad esempio, possiamo calcolare minimo, massimo e somma."
   ]
  },
  {
   "cell_type": "code",
   "execution_count": 34,
   "metadata": {},
   "outputs": [
    {
     "name": "stdout",
     "output_type": "stream",
     "text": [
      "voto minimo: 22\n",
      "voto massimo: 30\n"
     ]
    }
   ],
   "source": [
    "grades = [28, 25, 22, 30, 30, 28, 26]\n",
    "print(f'voto minimo: {min(grades)}')\n",
    "print(f'voto massimo: {max(grades)}')"
   ]
  },
  {
   "cell_type": "markdown",
   "metadata": {},
   "source": [
    "### *Esercizio 1* \n",
    "\n",
    "Stampare il voto medio col formato qui sopra, usando (anche) la funzione *sum*."
   ]
  },
  {
   "cell_type": "code",
   "execution_count": 35,
   "metadata": {},
   "outputs": [
    {
     "name": "stdout",
     "output_type": "stream",
     "text": [
      "15\n"
     ]
    }
   ],
   "source": [
    "#FILL ME\n",
    "print(sum([10, 5]))"
   ]
  },
  {
   "cell_type": "markdown",
   "metadata": {},
   "source": [
    "Liste di tipo misto\n",
    "---\n",
    "In Python, una lista può contenere qualsiasi cosa."
   ]
  },
  {
   "cell_type": "code",
   "execution_count": 37,
   "metadata": {},
   "outputs": [
    {
     "name": "stdout",
     "output_type": "stream",
     "text": [
      "['apples', 'oranges', 32, 17]\n"
     ]
    }
   ],
   "source": [
    "stuff = []\n",
    "stuff += ['apples']\n",
    "stuff += ['oranges']\n",
    "stuff += [32]\n",
    "stuff += [17]\n",
    "print(stuff)"
   ]
  },
  {
   "cell_type": "markdown",
   "metadata": {},
   "source": [
    "Anche un'altra lista."
   ]
  },
  {
   "cell_type": "code",
   "execution_count": 38,
   "metadata": {},
   "outputs": [
    {
     "name": "stdout",
     "output_type": "stream",
     "text": [
      "['apples', 'oranges', 32, 17, [1, 2, 3, 4]]\n"
     ]
    }
   ],
   "source": [
    "another_list = [1,2,3,4]\n",
    "stuff += [another_list]\n",
    "print(stuff)"
   ]
  },
  {
   "cell_type": "markdown",
   "metadata": {},
   "source": [
    "Attenzione, è diverso da:"
   ]
  },
  {
   "cell_type": "code",
   "execution_count": 39,
   "metadata": {},
   "outputs": [
    {
     "name": "stdout",
     "output_type": "stream",
     "text": [
      "['apples', 'oranges', 32, 17, 1, 2, 3, 4]\n"
     ]
    }
   ],
   "source": [
    "stuff = ['apples', 'oranges', 32, 17]\n",
    "another_list = [1,2,3,4]\n",
    "stuff += another_list\n",
    "print(stuff)"
   ]
  },
  {
   "cell_type": "markdown",
   "metadata": {},
   "source": [
    "L'ordinamento usa in modo dinamico l'operatore '<', che non è definito su tutte le coppie di tipi."
   ]
  },
  {
   "cell_type": "code",
   "execution_count": 43,
   "metadata": {},
   "outputs": [
    {
     "ename": "TypeError",
     "evalue": "'<' not supported between instances of 'int' and 'str'",
     "output_type": "error",
     "traceback": [
      "\u001b[0;31m---------------------------------------------------------------------------\u001b[0m",
      "\u001b[0;31mTypeError\u001b[0m                                 Traceback (most recent call last)",
      "\u001b[0;32m<ipython-input-43-63b76547365d>\u001b[0m in \u001b[0;36m<module>\u001b[0;34m\u001b[0m\n\u001b[0;32m----> 1\u001b[0;31m \u001b[0mprint\u001b[0m\u001b[0;34m(\u001b[0m\u001b[0msorted\u001b[0m\u001b[0;34m(\u001b[0m\u001b[0mstuff\u001b[0m\u001b[0;34m)\u001b[0m\u001b[0;34m)\u001b[0m\u001b[0;34m\u001b[0m\u001b[0m\n\u001b[0m",
      "\u001b[0;31mTypeError\u001b[0m: '<' not supported between instances of 'int' and 'str'"
     ]
    }
   ],
   "source": [
    "print(sorted(stuff))"
   ]
  },
  {
   "cell_type": "markdown",
   "metadata": {},
   "source": [
    "*Slicing* e copia\n",
    "---\n",
    "Python permette l'estrazione di sottoliste (slicing) in modo compatto. "
   ]
  },
  {
   "cell_type": "code",
   "execution_count": 44,
   "metadata": {},
   "outputs": [
    {
     "name": "stdout",
     "output_type": "stream",
     "text": [
      "['a', 'b', 'c']\n"
     ]
    }
   ],
   "source": [
    "letters = ['a', 'b', 'c', 'd', 'e', 'f', 'g', 'h']\n",
    "print(letters[:3])#'le prime 3'"
   ]
  },
  {
   "cell_type": "code",
   "execution_count": 45,
   "metadata": {},
   "outputs": [
    {
     "name": "stdout",
     "output_type": "stream",
     "text": [
      "['d', 'e', 'f', 'g', 'h']\n"
     ]
    }
   ],
   "source": [
    "print(letters[3:])#'dalla terza (esclusa) in poi'"
   ]
  },
  {
   "cell_type": "code",
   "execution_count": 46,
   "metadata": {},
   "outputs": [
    {
     "data": {
      "text/plain": [
       "['a', 'b', 'c', 'd', 'e', 'f', 'g', 'h']"
      ]
     },
     "execution_count": 46,
     "metadata": {},
     "output_type": "execute_result"
    }
   ],
   "source": [
    "letters[:3] + letters[3:]"
   ]
  },
  {
   "cell_type": "code",
   "execution_count": 47,
   "metadata": {},
   "outputs": [
    {
     "name": "stdout",
     "output_type": "stream",
     "text": [
      "['d', 'e', 'f']\n"
     ]
    }
   ],
   "source": [
    "print(letters[3:6])"
   ]
  },
  {
   "cell_type": "markdown",
   "metadata": {},
   "source": [
    "Oltre ad inizio e fine della fetta, si può specificare anche lo *step*, cioè la spaziatura tra i valori estratti."
   ]
  },
  {
   "cell_type": "code",
   "execution_count": 49,
   "metadata": {},
   "outputs": [
    {
     "name": "stdout",
     "output_type": "stream",
     "text": [
      "[2, 4]\n"
     ]
    }
   ],
   "source": [
    "numbers = [0,1,2,3,4,5,6,7,8,9,10]\n",
    "print(numbers[2:6:2])#l'ultimo campo è step"
   ]
  },
  {
   "cell_type": "code",
   "execution_count": 58,
   "metadata": {},
   "outputs": [
    {
     "name": "stdout",
     "output_type": "stream",
     "text": [
      "[0, 1, 2, 3, 4, 5, 6, 7, 8, 9, 10]\n",
      "[0, 1, 2, 3, 4, 5, 6, 7, 8, 9, 10]\n"
     ]
    }
   ],
   "source": [
    "print(numbers[:])#tutti gli elementi\n",
    "print(numbers[::])"
   ]
  },
  {
   "cell_type": "code",
   "execution_count": 50,
   "metadata": {},
   "outputs": [
    {
     "name": "stdout",
     "output_type": "stream",
     "text": [
      "[0, 2, 4, 6, 8, 10]\n"
     ]
    }
   ],
   "source": [
    "even_numbers = numbers[::2]\n",
    "print(even_numbers)"
   ]
  },
  {
   "cell_type": "code",
   "execution_count": 51,
   "metadata": {},
   "outputs": [
    {
     "name": "stdout",
     "output_type": "stream",
     "text": [
      "[1, 3, 5, 7, 9]\n"
     ]
    }
   ],
   "source": [
    "odd_numbers = numbers[1::2]\n",
    "print(odd_numbers)"
   ]
  },
  {
   "cell_type": "markdown",
   "metadata": {},
   "source": [
    "Le stringhe sono liste speciali: si può accedere ai singoli caratteri che le compongono e estrarne sottostringhe attraverso lo slicing."
   ]
  },
  {
   "cell_type": "code",
   "execution_count": 36,
   "metadata": {},
   "outputs": [
    {
     "name": "stdout",
     "output_type": "stream",
     "text": [
      "m\n"
     ]
    }
   ],
   "source": [
    "a = 'Ciao mamma, guarda come mi diverto!'\n",
    "print(a[5])"
   ]
  },
  {
   "cell_type": "code",
   "execution_count": 37,
   "metadata": {},
   "outputs": [
    {
     "name": "stdout",
     "output_type": "stream",
     "text": [
      "mamma\n"
     ]
    }
   ],
   "source": [
    "print(a[5:10])"
   ]
  },
  {
   "cell_type": "markdown",
   "metadata": {},
   "source": [
    "L'operazione di slicing può essere usata per copiare una lista."
   ]
  },
  {
   "cell_type": "code",
   "execution_count": 65,
   "metadata": {},
   "outputs": [
    {
     "name": "stdout",
     "output_type": "stream",
     "text": [
      "[1, 2, 3, 'a']\n"
     ]
    }
   ],
   "source": [
    "original_list = [1,2,3,'a']\n",
    "copied_list = original_list[:]#copia\n",
    "print(copied_list)"
   ]
  },
  {
   "cell_type": "code",
   "execution_count": 67,
   "metadata": {},
   "outputs": [
    {
     "name": "stdout",
     "output_type": "stream",
     "text": [
      "[1, 2, 3, 4]\n"
     ]
    }
   ],
   "source": [
    "copied_list[-1] = 4\n",
    "print(copied_list)"
   ]
  },
  {
   "cell_type": "markdown",
   "metadata": {},
   "source": [
    "La copia (similmente a sorted) restituisce una *nuova* lista: quella originale rimane inalterata."
   ]
  },
  {
   "cell_type": "code",
   "execution_count": 69,
   "metadata": {},
   "outputs": [
    {
     "name": "stdout",
     "output_type": "stream",
     "text": [
      "[1, 2, 3, 'a']\n"
     ]
    }
   ],
   "source": [
    "print(original_list)"
   ]
  },
  {
   "cell_type": "markdown",
   "metadata": {},
   "source": [
    "Una lista non può essere copiata semplicemente assegnandola ad un altro nome di variabile. Così facendo, entrambe le variabili faranno riferimento alla stessa lista."
   ]
  },
  {
   "cell_type": "code",
   "execution_count": 72,
   "metadata": {},
   "outputs": [
    {
     "name": "stdout",
     "output_type": "stream",
     "text": [
      "[1, 2, 3, 'a'] [1, 2, 3, 'a']\n",
      "[1, 2, 3, 4] [1, 2, 3, 4]\n"
     ]
    }
   ],
   "source": [
    "original_list = [1,2,3,'a']\n",
    "same_list = original_list#nuovo riferimento alla stessa lista!\n",
    "print(original_list, same_list)\n",
    "\n",
    "same_list[-1] = 4\n",
    "print(original_list, same_list)"
   ]
  },
  {
   "cell_type": "markdown",
   "metadata": {},
   "source": [
    "*Esercizio 2*\n",
    "---\n",
    "Provare a giocare un po' con le liste e con le operazioni che abbiamo visto:\n",
    "\n",
    "- creare una lista vuota e riempirla\n",
    "- inserire, modificare e cancellare elementi\n",
    "- ordinarla in modo naturale e inverso\n",
    "- copiarla ed estrarne delle porzioni."
   ]
  },
  {
   "cell_type": "code",
   "execution_count": 41,
   "metadata": {},
   "outputs": [],
   "source": [
    "#FILL ME"
   ]
  },
  {
   "cell_type": "markdown",
   "metadata": {},
   "source": [
    "Cicli ***for***\n",
    "===\n",
    "Nella programmazione, un *ciclo* è un costrutto in cui si ripetono delle operazioni, per esempio iterando sugli oggetti contenuti in una lista. Si può accedere in modo ordinato agli elementi di una lista attraverso un ciclo *for*.\n",
    "\n",
    "**Nota**: in Python l'indentazione è obbligatoria. Questo ambiente di sviluppo semplifica la scrittura di codice indentato correttamente."
   ]
  },
  {
   "cell_type": "code",
   "execution_count": 73,
   "metadata": {},
   "outputs": [
    {
     "name": "stdout",
     "output_type": "stream",
     "text": [
      "triangle\n",
      "square\n",
      "circle\n",
      "hexagon\n"
     ]
    }
   ],
   "source": [
    "shapes = ['triangle', 'square', 'circle', 'hexagon']\n",
    "for shape in shapes:\n",
    "    print(shape)#codice indentato"
   ]
  },
  {
   "cell_type": "markdown",
   "metadata": {},
   "source": [
    "Nel codice qui sopra, *shape* contiene, ad ogni iterazione del ciclo, un oggetto della lista. E' una variabile, e può avere un nome qualsiasi."
   ]
  },
  {
   "cell_type": "code",
   "execution_count": 74,
   "metadata": {},
   "outputs": [
    {
     "name": "stdout",
     "output_type": "stream",
     "text": [
      "1\n",
      "2\n",
      "3\n",
      "4\n",
      "5\n"
     ]
    }
   ],
   "source": [
    "numbers = [1,2,3,4,5]\n",
    "for x in numbers:\n",
    "    print(x)"
   ]
  },
  {
   "cell_type": "markdown",
   "metadata": {},
   "source": [
    "Le liste di numeri sono comode quando vogliamo ripetere un'operazione un numero definito di volte."
   ]
  },
  {
   "cell_type": "code",
   "execution_count": 75,
   "metadata": {},
   "outputs": [
    {
     "name": "stdout",
     "output_type": "stream",
     "text": [
      "Ripetizione numero 0\n",
      "Ripetizione numero 1\n",
      "Ripetizione numero 2\n",
      "Ripetizione numero 3\n",
      "Ripetizione numero 4\n",
      "Ripetizione numero 5\n",
      "Ripetizione numero 6\n",
      "Ripetizione numero 7\n",
      "Ripetizione numero 8\n",
      "Ripetizione numero 9\n"
     ]
    }
   ],
   "source": [
    "numbers = [0,1,2,3,4,5,6,7,8,9]\n",
    "for counter in numbers:\n",
    "    print('Ripetizione numero', counter)"
   ]
  },
  {
   "cell_type": "markdown",
   "metadata": {},
   "source": [
    "Ovviamente, se le iterazioni sono tante, dichiarare una lista di numeri diventa scomodo. La funzione built-in *range* fa al caso nostro."
   ]
  },
  {
   "cell_type": "code",
   "execution_count": 76,
   "metadata": {},
   "outputs": [
    {
     "name": "stdout",
     "output_type": "stream",
     "text": [
      "[0, 1, 2, 3, 4, 5, 6, 7, 8, 9, 10, 11, 12, 13, 14, 15, 16, 17, 18, 19, 20, 21, 22, 23, 24, 25, 26, 27, 28, 29, 30, 31, 32, 33, 34, 35, 36, 37, 38, 39, 40, 41, 42, 43, 44, 45, 46, 47, 48, 49, 50, 51, 52, 53, 54, 55, 56, 57, 58, 59, 60, 61, 62, 63, 64, 65, 66, 67, 68, 69, 70, 71, 72, 73, 74, 75, 76, 77, 78, 79, 80, 81, 82, 83, 84, 85, 86, 87, 88, 89, 90, 91, 92, 93, 94, 95, 96, 97, 98, 99]\n"
     ]
    }
   ],
   "source": [
    "print(list(range(100)))"
   ]
  },
  {
   "cell_type": "markdown",
   "metadata": {},
   "source": [
    "In questo caso, la conversione a lista (col metodo *list*) è necessaria per la stampa. Infatti *range* è anche un tipo, che è pensato per essere compatto anche in fase di visualizzazione. Se vogliamo stampare la lista di numeri generata con range dobbiamo quindi trasformarla esplicitamente, in modo che print sappia che vogliamo visualizzarla in modo esteso, appunto come una lista."
   ]
  },
  {
   "cell_type": "code",
   "execution_count": 46,
   "metadata": {},
   "outputs": [
    {
     "data": {
      "text/plain": [
       "range"
      ]
     },
     "execution_count": 46,
     "metadata": {},
     "output_type": "execute_result"
    }
   ],
   "source": [
    "type(range(10))"
   ]
  },
  {
   "cell_type": "code",
   "execution_count": 1,
   "metadata": {},
   "outputs": [
    {
     "name": "stdout",
     "output_type": "stream",
     "text": [
      "range(0, 10)\n"
     ]
    }
   ],
   "source": [
    "print(range(10))"
   ]
  },
  {
   "cell_type": "code",
   "execution_count": 2,
   "metadata": {},
   "outputs": [
    {
     "data": {
      "text/plain": [
       "list"
      ]
     },
     "execution_count": 2,
     "metadata": {},
     "output_type": "execute_result"
    }
   ],
   "source": [
    "type(list(range(10)))"
   ]
  },
  {
   "cell_type": "code",
   "execution_count": 3,
   "metadata": {},
   "outputs": [
    {
     "name": "stdout",
     "output_type": "stream",
     "text": [
      "[0, 1, 2, 3, 4, 5, 6, 7, 8, 9]\n"
     ]
    }
   ],
   "source": [
    "print(list(range(10)))"
   ]
  },
  {
   "cell_type": "markdown",
   "metadata": {},
   "source": [
    "Riprendendo l'esempio di prima, possiamo ripetere un'operazione senza dichiarare esplicitamente la lista numerica."
   ]
  },
  {
   "cell_type": "code",
   "execution_count": 77,
   "metadata": {},
   "outputs": [
    {
     "name": "stdout",
     "output_type": "stream",
     "text": [
      "Ripetizione numero 0\n",
      "Ripetizione numero 1\n",
      "Ripetizione numero 2\n",
      "Ripetizione numero 3\n",
      "Ripetizione numero 4\n",
      "Ripetizione numero 5\n",
      "Ripetizione numero 6\n",
      "Ripetizione numero 7\n",
      "Ripetizione numero 8\n",
      "Ripetizione numero 9\n"
     ]
    }
   ],
   "source": [
    "for counter in range(10):\n",
    "    print('Ripetizione numero', counter)"
   ]
  },
  {
   "cell_type": "markdown",
   "metadata": {},
   "source": [
    "Enumerazione\n",
    "---\n",
    "Supponiamo di voler conoscere l'indice dell'iterazione corrente. In altre parole, oltre all'elemento, vogliamo conoscere anche la sua posizione."
   ]
  },
  {
   "cell_type": "code",
   "execution_count": 79,
   "metadata": {},
   "outputs": [
    {
     "name": "stdout",
     "output_type": "stream",
     "text": [
      "L'elemento in posizione 0 è triangle\n",
      "L'elemento in posizione 1 è square\n",
      "L'elemento in posizione 2 è circle\n",
      "L'elemento in posizione 3 è hexagon\n"
     ]
    }
   ],
   "source": [
    "shapes = ['triangle', 'square', 'circle', 'hexagon']\n",
    "counter = 0\n",
    "for shape in shapes:\n",
    "    print(\"L'elemento in posizione {} è {}\".format(counter, shape))\n",
    "    counter += 1"
   ]
  },
  {
   "cell_type": "markdown",
   "metadata": {},
   "source": [
    "Quanto sopra si può realizzare in modo più compatto grazie al metodo *enumerate*."
   ]
  },
  {
   "cell_type": "code",
   "execution_count": 80,
   "metadata": {},
   "outputs": [
    {
     "name": "stdout",
     "output_type": "stream",
     "text": [
      "L'elemento in posizione 0 è triangle\n",
      "L'elemento in posizione 1 è square\n",
      "L'elemento in posizione 2 è circle\n",
      "L'elemento in posizione 3 è hexagon\n"
     ]
    }
   ],
   "source": [
    "shapes = ['triangle', 'square', 'circle', 'hexagon']\n",
    "for counter, shape in enumerate(shapes):\n",
    "    print(\"L'elemento in posizione {} è {}\".format(counter, shape))"
   ]
  },
  {
   "cell_type": "markdown",
   "metadata": {},
   "source": [
    "*Esercizio 3*\n",
    "---\n",
    "\n",
    "- creare una lista di numeri interi, float o misti\n",
    "- iterare sugli oggetti della lista\n",
    "- stampare oggetti e loro indice nella lista\n",
    "- inserire in una lista di appoggio i quadrati dei numeri della lista\n",
    "- stampare la nuova lista per verificare contenuto\n",
    "- come buona pratica, commentare il codice"
   ]
  },
  {
   "cell_type": "code",
   "execution_count": 81,
   "metadata": {},
   "outputs": [
    {
     "name": "stdout",
     "output_type": "stream",
     "text": [
      "100\n"
     ]
    }
   ],
   "source": [
    "#FILL ME\n",
    "print(10**2)#operatore 'al quadrato'"
   ]
  },
  {
   "cell_type": "markdown",
   "metadata": {},
   "source": [
    "Comprensioni di liste\n",
    "---\n",
    "Come abbiamo visto nell'esercizio precedente, utilizzare un ciclo per costruire una lista a partire da una di partenza è un po' macchinoso."
   ]
  },
  {
   "cell_type": "code",
   "execution_count": 1,
   "metadata": {},
   "outputs": [
    {
     "name": "stdout",
     "output_type": "stream",
     "text": [
      "['Francesco', 'Elisa', 'Alessandro', 'Giovanni', 'Maria Teresa']\n"
     ]
    }
   ],
   "source": [
    "names = ['francesco', 'elisa', 'alessandro', 'giovanni', 'maria teresa']\n",
    "titled_names = []\n",
    "for n in names:\n",
    "    titled_names += [n.title()]\n",
    "print(titled_names)"
   ]
  },
  {
   "cell_type": "markdown",
   "metadata": {},
   "source": [
    "Una *comprensione* esegue il ciclo in una riga, iterando sugli elementi della lista.\n",
    "\n",
    "In questo modo è possibile derivare nuove liste da una nota in modo comodo e compatto. In seguito vedremo di nuovo la potenza di questo costrutto, che rende Python un linguaggio estremamente elegante e leggibile, molto vicino al linguaggio naturale."
   ]
  },
  {
   "cell_type": "code",
   "execution_count": 2,
   "metadata": {},
   "outputs": [
    {
     "name": "stdout",
     "output_type": "stream",
     "text": [
      "['Francesco', 'Elisa', 'Alessandro', 'Giovanni', 'Maria Teresa']\n"
     ]
    }
   ],
   "source": [
    "titled_names = [n.title() for n in names]\n",
    "print(titled_names)"
   ]
  },
  {
   "cell_type": "code",
   "execution_count": 3,
   "metadata": {},
   "outputs": [
    {
     "name": "stdout",
     "output_type": "stream",
     "text": [
      "['F', 'E', 'A', 'G', 'M']\n"
     ]
    }
   ],
   "source": [
    "titled_initials = [n.title()[0] for n in names]\n",
    "print(titled_initials)"
   ]
  },
  {
   "cell_type": "markdown",
   "metadata": {},
   "source": [
    "Le comprensioni di liste funzionano anche con l'enumerazione, cioè con l'indicizzazione dei singoli elementi."
   ]
  },
  {
   "cell_type": "code",
   "execution_count": 4,
   "metadata": {},
   "outputs": [
    {
     "name": "stdout",
     "output_type": "stream",
     "text": [
      "[[0, 'Francesco'], [1, 'Elisa'], [2, 'Alessandro'], [3, 'Giovanni'], [4, 'Maria Teresa']]\n"
     ]
    }
   ],
   "source": [
    "indexed_names = [[i, n.title()] for i, n in enumerate(names)]\n",
    "print(indexed_names)"
   ]
  },
  {
   "cell_type": "code",
   "execution_count": 5,
   "metadata": {},
   "outputs": [
    {
     "name": "stdout",
     "output_type": "stream",
     "text": [
      "[[0, 'Alessandro'], [1, 'Elisa'], [2, 'Francesco'], [3, 'Giovanni'], [4, 'Maria Teresa']]\n"
     ]
    }
   ],
   "source": [
    "sorted_indexed_names = [[i, n.title()] for i, n in enumerate(sorted(names))]\n",
    "print(sorted_indexed_names)"
   ]
  },
  {
   "cell_type": "markdown",
   "metadata": {},
   "source": [
    "*Esercizio 4*\n",
    "---\n",
    "Dividere per due i quadrati ottenuti all'esercizio 3, utilizzando una comprensione di lista."
   ]
  },
  {
   "cell_type": "code",
   "execution_count": 56,
   "metadata": {},
   "outputs": [],
   "source": [
    "#FILL ME"
   ]
  },
  {
   "cell_type": "markdown",
   "metadata": {},
   "source": [
    "<script>\n",
    "  $(document).ready(function(){\n",
    "    $('div.back-to-top').hide();\n",
    "    $('nav#menubar').hide();\n",
    "    $('div.prompt').hide();\n",
    "    $('.hidden-print').hide();\n",
    "  });\n",
    "</script>\n",
    "\n",
    "<footer id=\"attribution\" style=\"float:right; color:#999; background:#fff;\">\n",
    "Created with Jupyter, delivered by Fastly, rendered by Rackspace.\n",
    "</footer>"
   ]
  }
 ],
 "metadata": {
  "kernelspec": {
   "display_name": "Python 3",
   "language": "python",
   "name": "python3"
  },
  "language_info": {
   "codemirror_mode": {
    "name": "ipython",
    "version": 3
   },
   "file_extension": ".py",
   "mimetype": "text/x-python",
   "name": "python",
   "nbconvert_exporter": "python",
   "pygments_lexer": "ipython3",
   "version": "3.6.6"
  }
 },
 "nbformat": 4,
 "nbformat_minor": 2
}
