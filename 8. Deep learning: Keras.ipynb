{
 "cells": [
  {
   "cell_type": "markdown",
   "metadata": {},
   "source": [
    "Contenuti\n",
    "===\n",
    "- [Keras: reti neurali con Python](#Keras:-reti-neurali-con-Python)\n",
    "- [Il dataset MNIST](#Il-dataset-MNIST)\n",
    "- [*Perceptron*, SLP e MLP](#Perceptron,-SLP-e-MLP)\n",
    "- [*Models*, *layers* e *deep learning*](#Models,-layers-e-deep-learning)\n",
    "- [Addestramento e valutazione](#Addestramento-e-valutazione)"
   ]
  },
  {
   "cell_type": "markdown",
   "metadata": {},
   "source": [
    "Keras: reti neurali con Python\n",
    "---"
   ]
  },
  {
   "cell_type": "markdown",
   "metadata": {},
   "source": [
    "Keras è lo strumento più avanzato di Python per le reti neurali. Supporta diversi *backend*, tra cui TensorFlow: https://www.tensorflow.org/. Può eseguire calcoli sia su CPU che GPU: https://www.quora.com/Why-are-GPUs-well-suited-to-deep-learning.\n",
    "\n",
    "Keras mette a disposizione API di alto livello per costruire ed usare una rete neurale con pochissime righe di codice. Allo stesso tempo, è una libreria altamente modulare, flessibile e facile da estendere.\n",
    "\n",
    "Sul web si trovano molte introduzioni alle reti neurali basate su Keras, come https://towardsdatascience.com/how-to-build-a-neural-network-with-keras-e8faa33d0ae4.\n",
    "\n",
    "\n",
    "Importiamo la libreria dopo averla installata con *pip* (o *conda*, se si usa la distribuzione *Anaconda*):\n",
    "        \n",
    "        conda install keras    \n"
   ]
  },
  {
   "cell_type": "code",
   "execution_count": 2,
   "metadata": {},
   "outputs": [
    {
     "data": {
      "text/plain": [
       "'2.1.6'"
      ]
     },
     "execution_count": 2,
     "metadata": {},
     "output_type": "execute_result"
    }
   ],
   "source": [
    "import keras\n",
    "keras.__version__"
   ]
  },
  {
   "cell_type": "markdown",
   "metadata": {},
   "source": [
    "Il dataset MNIST\n",
    "---\n",
    "MNIST (http://yann.lecun.com/exdb/mnist/) è un dataset di 60K immagini di addestramento e 10K di test, costruito dal NIST (*National Institute of Standards and Technology*) negli anni 80. \n",
    "\n",
    "Ciascuna immagine rappresenta un numero scritto a mano. *Risolvere* MNIST, cioè imparare ad assegnare ad una immagine il numero corretto, è considerato l'\"Hello, world!\" delle reti neurali.\n",
    "\n",
    "Importiamo MNIST attraverso il modulo *datasets* di Keras. La libreria *pickle* di Python gestisce oggetti *serializzati*, cioè salvati in formato binario."
   ]
  },
  {
   "cell_type": "code",
   "execution_count": 5,
   "metadata": {},
   "outputs": [
    {
     "name": "stdout",
     "output_type": "stream",
     "text": [
      "train images: 60000,28,28\n",
      "train labels: 60000\n",
      "test images : 10000,28,28\n",
      "test labels : 10000\n"
     ]
    }
   ],
   "source": [
    "from keras.datasets import mnist\n",
    "import pickle\n",
    "\n",
    "#pickle.dump(mnist.load_data(), open('../data/mnist', 'wb'))\n",
    "\n",
    "[train_images, train_labels], [test_images, test_labels] = pickle.load(open('../data/mnist', 'rb'))\n",
    "\n",
    "print('train images: {},{},{}'.format(*train_images.shape))\n",
    "print('train labels: {}'.format(*train_labels.shape))\n",
    "print('test images : {},{},{}'.format(*test_images.shape))\n",
    "print('test labels : {}'.format(*test_labels.shape))"
   ]
  },
  {
   "cell_type": "markdown",
   "metadata": {},
   "source": [
    "Ciascuna immagine è formata da 28\\*28 pixel in scala di grigio, cioè con valori da 0 a 255."
   ]
  },
  {
   "cell_type": "code",
   "execution_count": 6,
   "metadata": {},
   "outputs": [
    {
     "name": "stdout",
     "output_type": "stream",
     "text": [
      "ndim    : 3\n",
      "dtype   : uint8\n",
      "shape   : (28, 28)\n",
      "min/max : 0 255\n"
     ]
    }
   ],
   "source": [
    "import numpy as np\n",
    "\n",
    "print('ndim    :', train_images.ndim)\n",
    "print('dtype   :', train_images.dtype)\n",
    "print('shape   :', train_images[0].shape)\n",
    "print('min/max :', np.min(train_images), np.max(train_images))"
   ]
  },
  {
   "cell_type": "markdown",
   "metadata": {},
   "source": [
    "Visualizziamo le immagini di addestramento grazie ad una funzionalità della libreria *Matplotlib*: https://matplotlib.org/index.html.\n",
    "\n",
    "Il magic command\n",
    "\n",
    "    %matplotlib inline\n",
    "    \n",
    "permette di visualizzare implicitamente le immagini create dalla libreria."
   ]
  },
  {
   "cell_type": "code",
   "execution_count": 7,
   "metadata": {},
   "outputs": [
    {
     "data": {
      "text/plain": [
       "<matplotlib.image.AxesImage at 0x7ff465082860>"
      ]
     },
     "execution_count": 7,
     "metadata": {},
     "output_type": "execute_result"
    },
    {
     "data": {
      "image/png": "[encoded data removed]",
      "text/plain": [
       "<Figure size 432x288 with 1 Axes>"
      ]
     },
     "metadata": {
      "needs_background": "light"
     },
     "output_type": "display_data"
    }
   ],
   "source": [
    "import matplotlib.pyplot as plt\n",
    "%matplotlib inline\n",
    "\n",
    "plt.imshow(train_images[0], cmap=plt.cm.binary)"
   ]
  },
  {
   "cell_type": "code",
   "execution_count": 8,
   "metadata": {},
   "outputs": [
    {
     "data": {
      "text/plain": [
       "<matplotlib.image.AxesImage at 0x7ff4618162e8>"
      ]
     },
     "execution_count": 8,
     "metadata": {},
     "output_type": "execute_result"
    },
    {
     "data": {
      "image/png": "[encoded data removed]",
      "text/plain": [
       "<Figure size 432x288 with 1 Axes>"
      ]
     },
     "metadata": {
      "needs_background": "light"
     },
     "output_type": "display_data"
    }
   ],
   "source": [
    "plt.imshow(train_images[1], cmap=plt.cm.binary)"
   ]
  },
  {
   "cell_type": "markdown",
   "metadata": {},
   "source": [
    "Come abbiamo detto, le label (classi) sono 10, cioè i numeri da 0 a 9. Visualizziamone la distribuzione usando numpy e *seaborn*: https://seaborn.pydata.org/."
   ]
  },
  {
   "cell_type": "code",
   "execution_count": 9,
   "metadata": {},
   "outputs": [
    {
     "name": "stdout",
     "output_type": "stream",
     "text": [
      "{0, 1, 2, 3, 4, 5, 6, 7, 8, 9}\n"
     ]
    }
   ],
   "source": [
    "print(set(train_labels))"
   ]
  },
  {
   "cell_type": "code",
   "execution_count": 10,
   "metadata": {},
   "outputs": [
    {
     "name": "stdout",
     "output_type": "stream",
     "text": [
      "[5923 6742 5958 6131 5842 5421 5918 6265 5851 5949]\n"
     ]
    }
   ],
   "source": [
    "import numpy as np\n",
    "\n",
    "print(np.bincount(train_labels))"
   ]
  },
  {
   "cell_type": "code",
   "execution_count": 12,
   "metadata": {},
   "outputs": [
    {
     "data": {
      "text/plain": [
       "<matplotlib.axes._subplots.AxesSubplot at 0x7ff45d53add8>"
      ]
     },
     "execution_count": 12,
     "metadata": {},
     "output_type": "execute_result"
    },
    {
     "data": {
      "image/png": "[encoded data removed]",
      "text/plain": [
       "<Figure size 432x288 with 1 Axes>"
      ]
     },
     "metadata": {
      "needs_background": "light"
     },
     "output_type": "display_data"
    }
   ],
   "source": [
    "import seaborn as sns\n",
    "\n",
    "sns.distplot(train_labels, bins=10, kde=False)"
   ]
  },
  {
   "cell_type": "markdown",
   "metadata": {},
   "source": [
    "*Perceptron*, SLP e MLP\n",
    "---\n",
    "Costruiamo adesso con Keras una rete neurale, in particolare un *multi-layer perceptron* (MLP), in grado di riconoscere caratteri scritti a mano.\n",
    "\n",
    "Come abbiamo visto, il *perceptron* è una rete formata da un solo neurone. Questa singola unità applica una funzione *gradino* alla somma pesata dei suoi ingressi. Se il risultato supera una *soglia di attivazione* (per esempio 0), il nodo risponde 1; altrimenti, 0:\n",
    "\n",
    "![Perceptron function](https://wikimedia.org/api/rest_v1/media/math/render/svg/91b90f2214abac34f0aa9bfc48d44a3a5f96425d)\n",
    "\n",
    "L'ottimizzazione dei pesi $w$ è l'obiettivo dell'addestramento.\n",
    "\n",
    "Una rete con un solo livello di percettroni è detta SLP. Un MLP ha almeno un livello *hidden*, i cui nodi applicano funzioni di attivazione non lineari come la *ReLU*:\n",
    "\n",
    "![ReLU2](https://cdn-images-1.medium.com/max/1600/0*qtfLu9rmtNullrVC.png)\n",
    "\n",
    "Ecco un esempio di MLP:\n",
    "\n",
    "![MLP](https://dzone.com/storage/temp/3627042-mlp-network.png)\n",
    "\n",
    "Questa qui sopra è una rete *densa*: ogni neurone riceve input da tutti quelli del livello precedente e inoltra il risultato delle sue operazioni a tutti quelli del livello successivo."
   ]
  },
  {
   "cell_type": "markdown",
   "metadata": {},
   "source": [
    "A differenza del percettrone e di SLP, MLP è in grado di approssimare funzioni non lineari, come quella che ci serve per risolvere MNIST."
   ]
  },
  {
   "cell_type": "markdown",
   "metadata": {},
   "source": [
    "*Models*, *layers* e *deep learning*\n",
    "---\n",
    "*Sequential* è il modello base di rete *feed-forward* (FF-ANN) di Keras, ed è contenuto nel modulo *models*. \n",
    "\n",
    "Si può utilizzare Sequential per costruire un MLP, \"impilando\" strati diversi di neuroni."
   ]
  },
  {
   "cell_type": "code",
   "execution_count": 14,
   "metadata": {},
   "outputs": [],
   "source": [
    "from keras import models\n",
    "from keras import layers\n",
    "\n",
    "network = models.Sequential()"
   ]
  },
  {
   "cell_type": "markdown",
   "metadata": {},
   "source": [
    "Il livello di input avrà tanti neuroni quante sono le feature. Nel caso di MNIST, i neuroni di input saranno tanti quanti i pixel di ogni immagine: 28\\*28 = 784.\n",
    "\n",
    "Per Keras, lo strato di input è implicito: il numero di nodi di ingresso è passato come argomento al primo livello intermedio.\n",
    "\n",
    "Costruiamo quindi un MLP con un unico strato intermedio di 512 neuroni. Scegliamo ReLU come funzione di attivazione in uscita dal livello intermedio."
   ]
  },
  {
   "cell_type": "code",
   "execution_count": 15,
   "metadata": {},
   "outputs": [],
   "source": [
    "network.add(layers.Dense(512, activation='relu', input_shape=(28 * 28,)))#strato hidden"
   ]
  },
  {
   "cell_type": "markdown",
   "metadata": {},
   "source": [
    "Poichè le classi sono 10, serviranno 10 nodi di output. La funzione di attivazione scelta per l'uscita à *softmax*:\n",
    "\n",
    "![Softmax](https://i2.wp.com/sefiks.com/wp-content/uploads/2017/11/softmax1.png?resize=850%2C329)\n",
    "\n",
    "Softmax trasforma punteggi numerici (nel nostro caso, le ReLU in uscita dallo strato intermedio) in probabilità, e si presta bene alla classificazione multi-classe."
   ]
  },
  {
   "cell_type": "code",
   "execution_count": 16,
   "metadata": {},
   "outputs": [],
   "source": [
    "network.add(layers.Dense(10, activation='softmax'))#strato di output"
   ]
  },
  {
   "cell_type": "markdown",
   "metadata": {},
   "source": [
    "La rete è quasi pronta. Mancano due ingredienti per poterla addestrare ed utilizzare: una funzione di *loss*, cioè un sistema di valutazione dell'errore commesso dal modello sui singoli esempi, e un *ottimizzatore*, cioè un procedimento di aggiornamento dei parametri della rete (i suoi pesi): https://towardsdatascience.com/types-of-optimization-algorithms-used-in-neural-networks-and-ways-to-optimize-gradient-95ae5d39529f.\n",
    "\n",
    "Quanti sono i pesi della rete che abbiamo costruito?"
   ]
  },
  {
   "cell_type": "code",
   "execution_count": 17,
   "metadata": {},
   "outputs": [
    {
     "data": {
      "text/plain": [
       "[<tf.Variable 'dense_1/kernel:0' shape=(784, 512) dtype=float32_ref>,\n",
       " <tf.Variable 'dense_1/bias:0' shape=(512,) dtype=float32_ref>,\n",
       " <tf.Variable 'dense_2/kernel:0' shape=(512, 10) dtype=float32_ref>,\n",
       " <tf.Variable 'dense_2/bias:0' shape=(10,) dtype=float32_ref>]"
      ]
     },
     "execution_count": 17,
     "metadata": {},
     "output_type": "execute_result"
    }
   ],
   "source": [
    "network.weights"
   ]
  },
  {
   "cell_type": "markdown",
   "metadata": {},
   "source": [
    "La funzione *compile* inizializza la rete e la prepara all'addestramento."
   ]
  },
  {
   "cell_type": "code",
   "execution_count": 18,
   "metadata": {},
   "outputs": [],
   "source": [
    "network.compile(optimizer='rmsprop',\n",
    "                loss='categorical_crossentropy',\n",
    "                metrics=['accuracy'])#valutazione dell'errore commesso dalla rete in uscita"
   ]
  },
  {
   "cell_type": "markdown",
   "metadata": {},
   "source": [
    "La rete che abbiamo costruito ha un solo livello intermedio. Con *deep learning*, da un punto di vista strutturale, si indica nient'altro che l'utilizzo di reti *profonde*, cioè con diversi strati nascosti (ciascuno con la sua funzione di attivazione).\n",
    "\n",
    "Ognuno dei livelli di una rete può essere visto come un *filtro* per i dati. In ciascuno dei livelli l'informazione arriva in una certa forma, viene interpretata, e ne esce in una forma diversa. \n",
    "\n",
    "Intuitivamente, una rete profonda impara concetti semplici (di *basso livello*) nei primi strati, imparando a gestire concetti più generali e con una semantica via via più complessa (cioè, sempre di più *alto livello*) negli strati successivi:\n",
    "\n",
    "![DeepLearning](https://fortunedotcom.files.wordpress.com/2016/09/lrn-10-01-16-neural-networks-e1474990995824.png)\n",
    "\n",
    "Questa capacità di generalizzazione progressiva e di apprendimento di concetti è quello che rende unico il deep learning. Il salto in avanti rispetto al machine learning degli anni precedenti all'esplosione delle reti neurali profonde è il concetto di *feature learning*. Invece di progettare manualmente le caratteristiche dei dati, queste vengono imparate dalla rete, contestualmente all'apprendimento.\n",
    "\n",
    "I primi strati di una rete profonda, se i dati di apprendimento sono sufficienti, sono in grado di *progettare* autonomamente feature (cioè concetti di basso livello), che verranno rielaborati negli strati successivi.\n",
    "\n",
    "![FeatureLearning](https://cdn-images-1.medium.com/max/693/1*ZX05x1xYgaVoa4Vn2kKS9g.png)"
   ]
  },
  {
   "cell_type": "markdown",
   "metadata": {},
   "source": [
    "Addestramento e valutazione\n",
    "---\n",
    "Torniamo all'addestramento della nostra rete.\n",
    "\n",
    "Aggiustiamo i dati in modo conveniente: in particolare, vogliamo che ognuno dei 60K esempi di addestramento (le immagini) abbia 28\\*28=784 feature, quanti sono i pixel. Normalizziamo anche ogni feature tra 0 e 1."
   ]
  },
  {
   "cell_type": "code",
   "execution_count": 19,
   "metadata": {},
   "outputs": [],
   "source": [
    "train_images = train_images.reshape((60000, 28*28))\n",
    "train_images = train_images.astype('float32') / 255\n",
    "\n",
    "test_images = test_images.reshape((10000, 28*28))\n",
    "test_images = test_images.astype('float32') / 255"
   ]
  },
  {
   "cell_type": "markdown",
   "metadata": {},
   "source": [
    "Come ultimo passaggio, trasformiamo le etichette attraverso la codifica one-hot."
   ]
  },
  {
   "cell_type": "code",
   "execution_count": 20,
   "metadata": {},
   "outputs": [
    {
     "name": "stdout",
     "output_type": "stream",
     "text": [
      "(60000,) 5\n",
      "(60000, 10) [0. 0. 0. 0. 0. 1. 0. 0. 0. 0.]\n"
     ]
    }
   ],
   "source": [
    "from keras.utils import to_categorical\n",
    "\n",
    "print(train_labels.shape, train_labels[0])\n",
    "\n",
    "train_labels = to_categorical(train_labels)\n",
    "test_labels = to_categorical(test_labels)\n",
    "\n",
    "print(train_labels.shape, train_labels[0])"
   ]
  },
  {
   "cell_type": "markdown",
   "metadata": {},
   "source": [
    "Siamo infine pronti per addestrare e valutare le prestazione della rete. Durante l'addestramento, l'algoritmo di ottimizzazione lavora su di un sottoinsieme (*batch*) di esempi alla volta. Ad ogni *epoca* di addestramento, alla rete vengono presentati tutti gli esempi del training set."
   ]
  },
  {
   "cell_type": "code",
   "execution_count": 21,
   "metadata": {},
   "outputs": [
    {
     "name": "stdout",
     "output_type": "stream",
     "text": [
      "Epoch 1/5\n",
      "60000/60000 [==============================] - 4s 59us/step - loss: 0.2566 - acc: 0.9260\n",
      "Epoch 2/5\n",
      "60000/60000 [==============================] - 4s 59us/step - loss: 0.1031 - acc: 0.9691\n",
      "Epoch 3/5\n",
      "60000/60000 [==============================] - 4s 59us/step - loss: 0.0679 - acc: 0.9791\n",
      "Epoch 4/5\n",
      "60000/60000 [==============================] - 4s 60us/step - loss: 0.0501 - acc: 0.9851\n",
      "Epoch 5/5\n",
      "60000/60000 [==============================] - 4s 59us/step - loss: 0.0365 - acc: 0.9889\n"
     ]
    },
    {
     "data": {
      "text/plain": [
       "<keras.callbacks.History at 0x7ff45cc1e1d0>"
      ]
     },
     "execution_count": 21,
     "metadata": {},
     "output_type": "execute_result"
    }
   ],
   "source": [
    "network.fit(train_images, train_labels, epochs=5, batch_size=128)"
   ]
  },
  {
   "cell_type": "code",
   "execution_count": 22,
   "metadata": {},
   "outputs": [
    {
     "name": "stdout",
     "output_type": "stream",
     "text": [
      "10000/10000 [==============================] - 0s 42us/step\n"
     ]
    },
    {
     "data": {
      "text/plain": [
       "[0.07191566903083585, 0.9786]"
      ]
     },
     "execution_count": 22,
     "metadata": {},
     "output_type": "execute_result"
    }
   ],
   "source": [
    "network.evaluate(test_images, test_labels)"
   ]
  },
  {
   "cell_type": "markdown",
   "metadata": {},
   "source": [
    "Grazie a Keras, con circa 20 righe di codice abbiamo costruito una rete neurale MLP che ottiene un'accuratezza di circa il 98% su di un problema di classificazione di immagini."
   ]
  },
  {
   "cell_type": "markdown",
   "metadata": {},
   "source": [
    "<script>\n",
    "  $(document).ready(function(){\n",
    "    $('div.back-to-top').hide();\n",
    "    $('nav#menubar').hide();\n",
    "    $('div.prompt').hide();\n",
    "    $('.hidden-print').hide();\n",
    "  });\n",
    "</script>\n",
    "\n",
    "<footer id=\"attribution\" style=\"float:right; color:#999; background:#fff;\">\n",
    "Created with Jupyter, delivered by Fastly, rendered by Rackspace.\n",
    "</footer>"
   ]
  }
 ],
 "metadata": {
  "kernelspec": {
   "display_name": "Python 3",
   "language": "python",
   "name": "python3"
  },
  "language_info": {
   "codemirror_mode": {
    "name": "ipython",
    "version": 3
   },
   "file_extension": ".py",
   "mimetype": "text/x-python",
   "name": "python",
   "nbconvert_exporter": "python",
   "pygments_lexer": "ipython3",
   "version": "3.6.6"
  }
 },
 "nbformat": 4,
 "nbformat_minor": 2
}
