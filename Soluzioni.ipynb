{
 "cells": [
  {
   "cell_type": "markdown",
   "metadata": {},
   "source": [
    "- [3.4](#3.4)\n",
    "- [3.5](#3.5)\n",
    "- [3.6](#3.6)\n",
    "- [4.1, 4.2](#4.1,-4.2)\n",
    "- [5.1](#5.1)\n",
    "- [5.2](#5.2)\n",
    "- [5.3](#5.3)\n",
    "- [6.2](#6.2)\n",
    "- [6.3](#6.3)\n",
    "- [6.4](#6.4)\n",
    "- [6.5](#6.5)\n",
    "- [6.6](#6.6)\n",
    "- [6.7](#6.7)\n",
    "- [7.3](#7.3)\n",
    "- [7.4](#7.4)"
   ]
  },
  {
   "cell_type": "markdown",
   "metadata": {},
   "source": [
    "3.4\n",
    "---"
   ]
  },
  {
   "cell_type": "code",
   "execution_count": 3,
   "metadata": {},
   "outputs": [
    {
     "name": "stdout",
     "output_type": "stream",
     "text": [
      "Il numero in posizione 0 è 10\n",
      "Il numero in posizione 1 è 2\n",
      "Il numero in posizione 2 è 4\n",
      "Il numero in posizione 3 è 8\n",
      "Il numero in posizione 4 è 1.7\n"
     ]
    },
    {
     "data": {
      "text/plain": [
       "[100, 4, 16, 64, 2.8899999999999997]"
      ]
     },
     "execution_count": 3,
     "metadata": {},
     "output_type": "execute_result"
    }
   ],
   "source": [
    "numbers = [10, 2, 4, 8, 1.7]\n",
    "squared_numbers = []\n",
    "\n",
    "for i, x in enumerate(numbers):\n",
    "    print('Il numero in posizione {} è {}'.format(i, x))\n",
    "    squared_numbers += [x**2]\n",
    "    \n",
    "squared_numbers"
   ]
  },
  {
   "cell_type": "markdown",
   "metadata": {},
   "source": [
    "3.5\n",
    "---"
   ]
  },
  {
   "cell_type": "code",
   "execution_count": 4,
   "metadata": {},
   "outputs": [
    {
     "data": {
      "text/plain": [
       "[[0, 'alessandro'],\n",
       " [1, 'elisa'],\n",
       " [2, 'francesco'],\n",
       " [3, 'giovanni'],\n",
       " [4, 'maria teresa']]"
      ]
     },
     "execution_count": 4,
     "metadata": {},
     "output_type": "execute_result"
    }
   ],
   "source": [
    "names = ['francesco', 'elisa', 'alessandro', 'giovanni', 'maria teresa']\n",
    "indexed_sorted_names = [[i, n] for i, n in enumerate(sorted(names))]\n",
    "\n",
    "indexed_sorted_names"
   ]
  },
  {
   "cell_type": "markdown",
   "metadata": {},
   "source": [
    "3.6\n",
    "---"
   ]
  },
  {
   "cell_type": "code",
   "execution_count": 5,
   "metadata": {},
   "outputs": [
    {
     "data": {
      "text/plain": [
       "[100, 4, 16, 64, 2.8899999999999997]"
      ]
     },
     "execution_count": 5,
     "metadata": {},
     "output_type": "execute_result"
    }
   ],
   "source": [
    "numbers = [10, 2, 4, 8, 1.7]\n",
    "squared_numbers = [x**2 for x in numbers]\n",
    "\n",
    "squared_numbers"
   ]
  },
  {
   "cell_type": "markdown",
   "metadata": {},
   "source": [
    "4.1, 4.2\n",
    "---"
   ]
  },
  {
   "cell_type": "code",
   "execution_count": 6,
   "metadata": {},
   "outputs": [
    {
     "name": "stdout",
     "output_type": "stream",
     "text": [
      "Il quadrato di 3 è 9, che è multiplo di 3 ma non di 2\n",
      "Il quadrato di 6 è 36, che è multiplo sia di 2 che di 3\n",
      "Il quadrato di 5 è 25, che non è multiplo né di 2 né di 3\n",
      "Il quadrato di 8 è 64, che è multiplo di 2 ma non di 3\n",
      "Il quadrato di 12 è 144, che è multiplo sia di 2 che di 3\n",
      "\n",
      "**************************************************************\n",
      "\n",
      "[36, 64, 144]\n",
      "[9, 36, 144]\n",
      "[64]\n"
     ]
    }
   ],
   "source": [
    "lst = [3,6,5,8,12]\n",
    "\n",
    "for element in lst:\n",
    "    if element**2 % 2 == 0 and element**2 % 3 == 0:\n",
    "        print('Il quadrato di {} è {}, che è multiplo sia di 2 che di 3'.format(element, element**2))\n",
    "    elif element**2 % 2 == 0:\n",
    "        print('Il quadrato di {} è {}, che è multiplo di 2 ma non di 3'.format(element, element**2))\n",
    "    elif element**2 % 3 == 0:\n",
    "        print('Il quadrato di {} è {}, che è multiplo di 3 ma non di 2'.format(element, element**2))\n",
    "    else:\n",
    "        print('Il quadrato di {} è {}, che non è multiplo né di 2 né di 3'.format(element, element**2))\n",
    "        \n",
    "print('\\n**************************************************************\\n')\n",
    "\n",
    "multiples_of_2 = [element**2 for element in lst if element**2 % 2 == 0]\n",
    "multiples_of_3 = [element**2 for element in lst if element**2 % 3 == 0]\n",
    "multiples_of_2_and_not_of_3 = [element**2 for element in lst if element**2 % 2 == 0 and not element**2 % 3 == 0]\n",
    "\n",
    "print(multiples_of_2)\n",
    "print(multiples_of_3)\n",
    "print(multiples_of_2_and_not_of_3)"
   ]
  },
  {
   "cell_type": "markdown",
   "metadata": {},
   "source": [
    "5.1\n",
    "---"
   ]
  },
  {
   "cell_type": "code",
   "execution_count": 7,
   "metadata": {},
   "outputs": [
    {
     "name": "stdout",
     "output_type": "stream",
     "text": [
      "Mount Everest è alta 8858\n",
      "K2 è alta 8611\n",
      "Kangchenjunga è alta 8586\n",
      "La montagna numero 1 è K2 ed è alta 8611\n",
      "La montagna numero 2 è Kangchenjunga ed è alta 8586\n",
      "La montagna numero 3 è Mount Everest ed è alta 8858\n"
     ]
    }
   ],
   "source": [
    "heights = {}\n",
    "heights['Mount Everest'] = 8858\n",
    "heights['K2'] = 8611\n",
    "heights['Kangchenjunga'] = 8586\n",
    "\n",
    "for mountain, height in heights.items():\n",
    "    print('{} è alta {}'.format(mountain, height))\n",
    "    \n",
    "for i, mountain in enumerate(sorted(heights.keys())):\n",
    "    print('La montagna numero {} è {} ed è alta {}'.format(i+1, mountain, heights[mountain]))"
   ]
  },
  {
   "cell_type": "markdown",
   "metadata": {},
   "source": [
    "5.2\n",
    "---"
   ]
  },
  {
   "cell_type": "code",
   "execution_count": 8,
   "metadata": {},
   "outputs": [
    {
     "name": "stdout",
     "output_type": "stream",
     "text": [
      "La montagna numero 0 è Mount Everest, è alta 8858 e si trova in Nepal\n",
      "La montagna numero 1 è K2, è alta 8611 e si trova in Pakistan\n",
      "La montagna numero 2 è Kangchenjunga, è alta 8586 e si trova in Nepal\n"
     ]
    }
   ],
   "source": [
    "mountains = []\n",
    "\n",
    "mountains += [{'name':'Mount Everest', 'height':8858, 'country':'Nepal'}]\n",
    "mountains += [{'name':'K2', 'height':8611, 'country':'Pakistan'}]\n",
    "mountains += [{'name':'Kangchenjunga', 'height':8586, 'country':'Nepal'}]\n",
    "\n",
    "for i, m in enumerate(mountains):\n",
    "    print('La montagna numero {} è {}, è alta {} e si trova in {}'.format(i,\n",
    "                                                                          m['name'],\n",
    "                                                                          m['height'],\n",
    "                                                                          m['country']))"
   ]
  },
  {
   "cell_type": "code",
   "execution_count": 9,
   "metadata": {},
   "outputs": [
    {
     "name": "stdout",
     "output_type": "stream",
     "text": [
      "{'Mount Everest': 8858, 'K2': 8611, 'Kangchenjunga': 8586}\n"
     ]
    }
   ],
   "source": [
    "mountain_names = [m['name'] for m in mountains]\n",
    "mountain_heights = [m['height'] for m in mountains]\n",
    "\n",
    "heights = {}\n",
    "\n",
    "for i,n in enumerate(mountain_names):\n",
    "    heights[n] = mountain_heights[i]\n",
    "    \n",
    "print(heights)"
   ]
  },
  {
   "cell_type": "markdown",
   "metadata": {},
   "source": [
    "5.3\n",
    "---"
   ]
  },
  {
   "cell_type": "code",
   "execution_count": 10,
   "metadata": {},
   "outputs": [],
   "source": [
    "def show_estate_info(e):\n",
    "    print('Paese: {}'.format(e['country']))\n",
    "    print('Estensione (mq): {}'.format(e['extension']))\n",
    "    print('Terreno annesso?: {}'.format('Sì' if e['has_land'] else 'No'))\n",
    "    print('Prezzo: {}K Euro'.format(e['price']))"
   ]
  },
  {
   "cell_type": "code",
   "execution_count": 11,
   "metadata": {},
   "outputs": [
    {
     "name": "stdout",
     "output_type": "stream",
     "text": [
      "\n",
      "Immobile #0\n",
      "Paese: Italia\n",
      "Estensione (mq): 2000\n",
      "Terreno annesso?: No\n",
      "Prezzo: 10K Euro\n",
      "\n",
      "Immobile #1\n",
      "Paese: Spagna\n",
      "Estensione (mq): 12000\n",
      "Terreno annesso?: No\n",
      "Prezzo: 125K Euro\n",
      "\n",
      "Immobile #2\n",
      "Paese: Argentina\n",
      "Estensione (mq): 50000\n",
      "Terreno annesso?: Sì\n",
      "Prezzo: 300K Euro\n"
     ]
    }
   ],
   "source": [
    "estates = []\n",
    "\n",
    "e1 = {'country':'Italia',    'extension':2000,  'has_land':False, 'price':10}\n",
    "e2 = {'country':'Spagna',    'extension':12000, 'has_land':False, 'price':125}\n",
    "e3 = {'country':'Argentina', 'extension':50000, 'has_land':True,  'price':300}\n",
    "\n",
    "estates += [e1, e2, e3]\n",
    "\n",
    "for i, e in enumerate(estates):\n",
    "    print(f'\\nImmobile #{i}')#sintassi alternativa a format, disponibile da Python 3.6\n",
    "    show_estate_info(e)"
   ]
  },
  {
   "cell_type": "markdown",
   "metadata": {},
   "source": [
    "6.2\n",
    "---"
   ]
  },
  {
   "cell_type": "code",
   "execution_count": 12,
   "metadata": {},
   "outputs": [
    {
     "name": "stdout",
     "output_type": "stream",
     "text": [
      "0.9983962196795021\n",
      "0.9983962196795204\n",
      "843 ms ± 187 ms per loop (mean ± std. dev. of 7 runs, 1 loop each)\n",
      "3.12 ms ± 214 µs per loop (mean ± std. dev. of 7 runs, 100 loops each)\n"
     ]
    }
   ],
   "source": [
    "import numpy as np\n",
    "import numpy.random as rdm\n",
    "from math import sqrt\n",
    "\n",
    "def py_std(x):\n",
    "    mean_val = sum(x) / len(x)\n",
    "    return sqrt(sum((val-mean_val)**2 for val in x) / len(x))\n",
    "\n",
    "large_array = rdm.normal(size=(1000000,))\n",
    "\n",
    "print(py_std(large_array))\n",
    "print(np.std(large_array))\n",
    "\n",
    "#confronto tempi di esecuzione\n",
    "%timeit py_std(large_array)\n",
    "%timeit np.std(large_array)"
   ]
  },
  {
   "cell_type": "markdown",
   "metadata": {},
   "source": [
    "6.3\n",
    "---"
   ]
  },
  {
   "cell_type": "code",
   "execution_count": 13,
   "metadata": {},
   "outputs": [
    {
     "name": "stdout",
     "output_type": "stream",
     "text": [
      "[[[ 10 121 192  62  10]\n",
      "  [100   8 117 122 213]\n",
      "  [239 229 225 145 151]\n",
      "  [233 221 204 163 169]\n",
      "  [193 170  83  59 152]]\n",
      "\n",
      " [[ 14  51 182 198 135]\n",
      "  [240  50 127 140  27]\n",
      "  [124  77 111 134  10]\n",
      "  [221 127  63 236 124]\n",
      "  [  6 216   8 171 240]]\n",
      "\n",
      " [[  7  92 123  51  62]\n",
      "  [ 77 165  80   6 181]\n",
      "  [ 73 206 185  43 177]\n",
      "  [  5 204 158  36  64]\n",
      "  [169 234  98 160   0]]\n",
      "\n",
      " ...\n",
      "\n",
      " [[244  82 232 100  15]\n",
      "  [ 46  36 225  49  92]\n",
      "  [153  39 234 130 212]\n",
      "  [133  31 145 161  50]\n",
      "  [109 168  85 148 233]]\n",
      "\n",
      " [[ 27  43 200  18  63]\n",
      "  [ 29 227 178 201  62]\n",
      "  [174 241  19 234  53]\n",
      "  [183 212  40  90 251]\n",
      "  [ 90 138 156  60  81]]\n",
      "\n",
      " [[252 114 211 111  59]\n",
      "  [179  49 154 104 100]\n",
      "  [195 143 145   1  64]\n",
      "  [115   8  97 114 248]\n",
      "  [ 81  71 164 221  11]]]\n"
     ]
    }
   ],
   "source": [
    "import numpy as np\n",
    "import numpy.random as rdm\n",
    "\n",
    "n_frames = 50\n",
    "n_pixel_y = 5\n",
    "n_pixel_x = 5\n",
    "movie = rdm.randint(0, 256, (n_frames, n_pixel_y, n_pixel_x))\n",
    "print(movie)"
   ]
  },
  {
   "cell_type": "code",
   "execution_count": 14,
   "metadata": {},
   "outputs": [
    {
     "name": "stdout",
     "output_type": "stream",
     "text": [
      "(50, 5, 5)\n"
     ]
    }
   ],
   "source": [
    "print(movie.shape)"
   ]
  },
  {
   "cell_type": "code",
   "execution_count": 15,
   "metadata": {},
   "outputs": [
    {
     "name": "stdout",
     "output_type": "stream",
     "text": [
      "[[121.72 139.18 143.84 114.44 129.6 ]\n",
      " [138.24 124.66 134.   127.56 135.28]\n",
      " [136.88 151.9  113.38 130.12 110.18]\n",
      " [130.06 123.6  124.66 132.06 146.94]\n",
      " [145.   119.98 128.42 123.78 136.1 ]]\n",
      "(5, 5)\n"
     ]
    }
   ],
   "source": [
    "pixel_mean_intensity = np.mean(movie, axis=0)\n",
    "print(pixel_mean_intensity)\n",
    "print(pixel_mean_intensity.shape)"
   ]
  },
  {
   "cell_type": "markdown",
   "metadata": {},
   "source": [
    "6.4\n",
    "---"
   ]
  },
  {
   "cell_type": "code",
   "execution_count": 16,
   "metadata": {},
   "outputs": [
    {
     "name": "stdout",
     "output_type": "stream",
     "text": [
      "5.0003\n",
      "0.0003\n",
      "3.0009090647790866 3.0009090647790866\n"
     ]
    }
   ],
   "source": [
    "import numpy as np\n",
    "import numpy.random as rdm\n",
    "\n",
    "values = rdm.normal(5, 3, 1000000)\n",
    "\n",
    "#sottraggo 5 e guardo se ha funzionato\n",
    "print(round(np.mean(values), 4))\n",
    "values -= 5\n",
    "print(round(np.mean(values), 4))\n",
    "\n",
    "#implemento deviazione std e confronto con np.std\n",
    "residuals = values - np.mean(values)\n",
    "squared_residuals = residuals**2\n",
    "variance = np.sum(squared_residuals) / values.size\n",
    "print(np.std(values), np.sqrt(variance))"
   ]
  },
  {
   "cell_type": "markdown",
   "metadata": {},
   "source": [
    "6.5\n",
    "---"
   ]
  },
  {
   "cell_type": "code",
   "execution_count": 17,
   "metadata": {},
   "outputs": [
    {
     "name": "stdout",
     "output_type": "stream",
     "text": [
      "[[ 1  2  3]\n",
      " [ 0  2 -1]\n",
      " [-1  2  3]\n",
      " [ 3  1  3]]\n",
      "[0 1 0 1]\n",
      "[1 1 2]\n"
     ]
    }
   ],
   "source": [
    "import numpy as np\n",
    "\n",
    "X_train = np.array([[1,2,3],\n",
    "                    [0,2,-1],\n",
    "                    [-1,2,3],\n",
    "                    [3,1,3]])\n",
    "\n",
    "x_new = np.array([1,1,2])\n",
    "\n",
    "y_train = np.array([0,1,0,1])\n",
    "\n",
    "print(X_train)\n",
    "print(y_train)\n",
    "print(x_new)"
   ]
  },
  {
   "cell_type": "code",
   "execution_count": 18,
   "metadata": {},
   "outputs": [
    {
     "name": "stdout",
     "output_type": "stream",
     "text": [
      "[1.4 3.3 2.4 2.2]\n"
     ]
    }
   ],
   "source": [
    "distances = [np.sqrt(np.sum((x - x_new) ** 2)) for x in X_train]#riga per riga\n",
    "distances = np.round(distances, 1)\n",
    "print(distances)"
   ]
  },
  {
   "cell_type": "markdown",
   "metadata": {},
   "source": [
    "Posso calcolare le distanze in modo ancora più compatto. Definita la *Norma* di un vettore $d$-dimensionale,\n",
    "\n",
    "$$\\|x\\|_2 := \\sqrt{\\sum_{i=1}^d x_i^2},$$\n",
    "\n",
    "si può dire che la distanza euclidea tra due vettori $x$ e $x'$ è la norma del *vettore differenza* $x - x'$:\n",
    "\n",
    "$$D(x, x') = \\sqrt{\\sum_{i=1}^{d}(x_i-x'_i)^2} = \\|x - x'\\|_2.$$\n",
    "\n",
    "Proviamo intanto ad operare vettorialmente."
   ]
  },
  {
   "cell_type": "code",
   "execution_count": 19,
   "metadata": {},
   "outputs": [
    {
     "data": {
      "text/plain": [
       "array([[ 0,  1,  1],\n",
       "       [-1,  1, -3],\n",
       "       [-2,  1,  1],\n",
       "       [ 2,  0,  1]])"
      ]
     },
     "execution_count": 19,
     "metadata": {},
     "output_type": "execute_result"
    }
   ],
   "source": [
    "X_train - x_new#vettori differenza"
   ]
  },
  {
   "cell_type": "code",
   "execution_count": 20,
   "metadata": {},
   "outputs": [
    {
     "data": {
      "text/plain": [
       "array([[0, 1, 1],\n",
       "       [1, 1, 9],\n",
       "       [4, 1, 1],\n",
       "       [4, 0, 1]])"
      ]
     },
     "execution_count": 20,
     "metadata": {},
     "output_type": "execute_result"
    }
   ],
   "source": [
    "(X_train - x_new) ** 2#differenze al quadrato"
   ]
  },
  {
   "cell_type": "code",
   "execution_count": 21,
   "metadata": {},
   "outputs": [
    {
     "data": {
      "text/plain": [
       "array([ 2, 11,  6,  5])"
      ]
     },
     "execution_count": 21,
     "metadata": {},
     "output_type": "execute_result"
    }
   ],
   "source": [
    "np.sum((X_train - x_new) ** 2, axis=1)#somma (lungo le colonne) degli scarti al quadrato"
   ]
  },
  {
   "cell_type": "code",
   "execution_count": 22,
   "metadata": {},
   "outputs": [
    {
     "name": "stdout",
     "output_type": "stream",
     "text": [
      "[1.4 3.3 2.4 2.2]\n"
     ]
    }
   ],
   "source": [
    "distances = np.sqrt(np.sum((X_train - x_new) ** 2, axis=1))#tutto vettoriale\n",
    "distances = np.round(distances, 1)\n",
    "print(distances)"
   ]
  },
  {
   "cell_type": "markdown",
   "metadata": {},
   "source": [
    "Volendo, tutto in una riga:"
   ]
  },
  {
   "cell_type": "code",
   "execution_count": 23,
   "metadata": {},
   "outputs": [
    {
     "name": "stdout",
     "output_type": "stream",
     "text": [
      "[1.4 3.3 2.4 2.2]\n"
     ]
    }
   ],
   "source": [
    "print(np.round(np.sqrt(np.sum((X_train - x_new) ** 2, axis=1)), 1))"
   ]
  },
  {
   "cell_type": "markdown",
   "metadata": {},
   "source": [
    "Adesso utilizziamo la funzione *norm* di numpy."
   ]
  },
  {
   "cell_type": "code",
   "execution_count": 24,
   "metadata": {},
   "outputs": [
    {
     "name": "stdout",
     "output_type": "stream",
     "text": [
      "[0.37302077 0.08657242 0.13471425 0.60975698 0.6514999 ]\n",
      "0.9803279509839358\n",
      "0.9803279509839358\n"
     ]
    }
   ],
   "source": [
    "from numpy.linalg import norm\n",
    "\n",
    "vec = np.random.random((5,))\n",
    "print(vec)\n",
    "print(np.sqrt(np.sum(vec**2)))\n",
    "print(norm(vec))"
   ]
  },
  {
   "cell_type": "code",
   "execution_count": 25,
   "metadata": {},
   "outputs": [
    {
     "name": "stdout",
     "output_type": "stream",
     "text": [
      "[1.4 3.3 2.4 2.2]\n"
     ]
    }
   ],
   "source": [
    "print(np.round(norm(X_train - x_new, axis=1), 1))#utilizzando la norma vettorialmente"
   ]
  },
  {
   "cell_type": "markdown",
   "metadata": {},
   "source": [
    "**Nota**: abbiamo smesso di scrivere cicli for!"
   ]
  },
  {
   "cell_type": "markdown",
   "metadata": {},
   "source": [
    "6.6\n",
    "---"
   ]
  },
  {
   "cell_type": "code",
   "execution_count": 26,
   "metadata": {},
   "outputs": [
    {
     "name": "stdout",
     "output_type": "stream",
     "text": [
      "[[ 1.6 66. ]\n",
      " [ 1.6 63. ]\n",
      " [ 1.9 67. ]]\n"
     ]
    }
   ],
   "source": [
    "people = np.array([[1.60, 66],\n",
    "                   [1.60, 63],\n",
    "                   [1.90, 67]])\n",
    "\n",
    "print(people)"
   ]
  },
  {
   "cell_type": "code",
   "execution_count": 27,
   "metadata": {},
   "outputs": [
    {
     "name": "stdout",
     "output_type": "stream",
     "text": [
      "[ 1.6 66. ]\n",
      "[ 1.6 63. ]\n",
      "[ 1.9 67. ]\n"
     ]
    }
   ],
   "source": [
    "A, B, C = people\n",
    "print(A)\n",
    "print(B)\n",
    "print(C)"
   ]
  },
  {
   "cell_type": "code",
   "execution_count": 28,
   "metadata": {},
   "outputs": [
    {
     "name": "stdout",
     "output_type": "stream",
     "text": [
      "3.0\n",
      "1.0440306508910548\n"
     ]
    }
   ],
   "source": [
    "print(norm(A-B))\n",
    "print(norm(A-C))"
   ]
  },
  {
   "cell_type": "code",
   "execution_count": 29,
   "metadata": {},
   "outputs": [
    {
     "name": "stdout",
     "output_type": "stream",
     "text": [
      "[0. 0. 1.]\n",
      "[0.75 0.   1.  ]\n"
     ]
    }
   ],
   "source": [
    "def scale_01(column):\n",
    "    return (column - np.min(column)) / (np.max(column) - np.min(column))\n",
    "\n",
    "scaled_height = scale_01(people[:, 0])\n",
    "scaled_weight = scale_01(people[:, 1])\n",
    "\n",
    "print(scaled_height)\n",
    "print(scaled_weight)"
   ]
  },
  {
   "cell_type": "code",
   "execution_count": 30,
   "metadata": {},
   "outputs": [
    {
     "name": "stdout",
     "output_type": "stream",
     "text": [
      "[[0.   0.   1.  ]\n",
      " [0.75 0.   1.  ]]\n"
     ]
    }
   ],
   "source": [
    "scaled_people = np.vstack([scaled_height, scaled_weight])\n",
    "print(scaled_people)"
   ]
  },
  {
   "cell_type": "code",
   "execution_count": 31,
   "metadata": {},
   "outputs": [
    {
     "name": "stdout",
     "output_type": "stream",
     "text": [
      "[[0.   0.75]\n",
      " [0.   0.  ]\n",
      " [1.   1.  ]]\n"
     ]
    }
   ],
   "source": [
    "scaled_people = scaled_people.T#trasposizione\n",
    "print(scaled_people)"
   ]
  },
  {
   "cell_type": "markdown",
   "metadata": {},
   "source": [
    "Scriviamo tutto in modo più veloce e compatto, utilizzando il calcolo vettoriale."
   ]
  },
  {
   "cell_type": "code",
   "execution_count": 32,
   "metadata": {},
   "outputs": [
    {
     "name": "stdout",
     "output_type": "stream",
     "text": [
      "[[ 1.6 66. ]\n",
      " [ 1.6 63. ]\n",
      " [ 1.9 67. ]]\n"
     ]
    }
   ],
   "source": [
    "print(people)"
   ]
  },
  {
   "cell_type": "code",
   "execution_count": 33,
   "metadata": {},
   "outputs": [
    {
     "name": "stdout",
     "output_type": "stream",
     "text": [
      "[ 1.6 63. ]\n"
     ]
    }
   ],
   "source": [
    "print(np.min(people, axis=0))#minimo per colonna (cioè, 'lungo le righe')"
   ]
  },
  {
   "cell_type": "code",
   "execution_count": 34,
   "metadata": {},
   "outputs": [
    {
     "name": "stdout",
     "output_type": "stream",
     "text": [
      "[[0.  3. ]\n",
      " [0.  0. ]\n",
      " [0.3 4. ]]\n"
     ]
    }
   ],
   "source": [
    "print(people - np.min(people, axis=0))"
   ]
  },
  {
   "cell_type": "code",
   "execution_count": 35,
   "metadata": {},
   "outputs": [
    {
     "name": "stdout",
     "output_type": "stream",
     "text": [
      "[0.3 4. ]\n"
     ]
    }
   ],
   "source": [
    "print(np.max(people, axis=0) - np.min(people, axis=0))"
   ]
  },
  {
   "cell_type": "code",
   "execution_count": 36,
   "metadata": {},
   "outputs": [
    {
     "name": "stdout",
     "output_type": "stream",
     "text": [
      "[[0.   0.75]\n",
      " [0.   0.  ]\n",
      " [1.   1.  ]]\n"
     ]
    }
   ],
   "source": [
    "scaled_people = (people - np.min(people, axis=0)) / (np.max(people, axis=0) - np.min(people, axis=0))\n",
    "print(scaled_people)"
   ]
  },
  {
   "cell_type": "code",
   "execution_count": 37,
   "metadata": {},
   "outputs": [
    {
     "name": "stdout",
     "output_type": "stream",
     "text": [
      "[0.   0.75]\n",
      "[0. 0.]\n",
      "[1. 1.]\n"
     ]
    }
   ],
   "source": [
    "scaled_A, scaled_B, scaled_C = scaled_people\n",
    "print(scaled_A)\n",
    "print(scaled_B)\n",
    "print(scaled_C)"
   ]
  },
  {
   "cell_type": "code",
   "execution_count": 38,
   "metadata": {},
   "outputs": [
    {
     "name": "stdout",
     "output_type": "stream",
     "text": [
      "0.75\n",
      "1.0307764064044151\n"
     ]
    }
   ],
   "source": [
    "print(norm(scaled_A-scaled_B))\n",
    "print(norm(scaled_A-scaled_C))"
   ]
  },
  {
   "cell_type": "markdown",
   "metadata": {},
   "source": [
    "6.7\n",
    "---"
   ]
  },
  {
   "cell_type": "code",
   "execution_count": 39,
   "metadata": {},
   "outputs": [
    {
     "name": "stdout",
     "output_type": "stream",
     "text": [
      "Matrice delle feature:\n",
      " [[0.5488135  0.71518937 0.60276338 0.54488318]\n",
      " [0.4236548  0.64589411 0.43758721 0.891773  ]\n",
      " [0.96366276 0.38344152 0.79172504 0.52889492]\n",
      " [0.56804456 0.92559664 0.07103606 0.0871293 ]\n",
      " [0.0202184  0.83261985 0.77815675 0.87001215]\n",
      " [0.97861834 0.79915856 0.46147936 0.78052918]\n",
      " [0.11827443 0.63992102 0.14335329 0.94466892]]\n",
      "\n",
      "Vettore delle etichette: [1 0 0 1 1 0 1]\n",
      "\n",
      "Nuovo esempio da classificare: [0.73691818 0.21655035 0.13521817 0.32414101]\n",
      "\n",
      "Predizione (k=3): 1\n",
      "Predizione (k=5): 0\n"
     ]
    }
   ],
   "source": [
    "import numpy as np\n",
    "from numpy.linalg import norm\n",
    "\n",
    "np.random.seed(0)#fisso il generatore casuale per la riproducibilità dell'esperimento\n",
    "\n",
    "def KNN(k, X, y, x):\n",
    "    distances = norm(X - x, axis=1)\n",
    "    sorted_labels = y[distances.argsort()]\n",
    "    return np.argmax(np.bincount(sorted_labels[:k]))\n",
    "\n",
    "def one_line_KNN(k, X, y, x):\n",
    "    return np.argmax(np.bincount(y[norm(X - x, axis=1).argsort()][:k]))\n",
    "\n",
    "X_train = np.random.random((7,4))\n",
    "y_train = np.random.randint(0, 2, (7))\n",
    "x_new = np.random.random((4,))\n",
    "\n",
    "print('Matrice delle feature:\\n', X_train)\n",
    "\n",
    "print('\\nVettore delle etichette:', y_train)\n",
    "\n",
    "print('\\nNuovo esempio da classificare:', x_new)\n",
    "\n",
    "print('\\nPredizione (k=3):', one_line_KNN(3, X_train, y_train, x_new))\n",
    "print('Predizione (k=5):', one_line_KNN(5, X_train, y_train, x_new))"
   ]
  },
  {
   "cell_type": "markdown",
   "metadata": {},
   "source": [
    "7.3\n",
    "---"
   ]
  },
  {
   "cell_type": "code",
   "execution_count": 40,
   "metadata": {},
   "outputs": [
    {
     "name": "stdout",
     "output_type": "stream",
     "text": [
      ".. _boston_dataset:\n",
      "\n",
      "Boston house prices dataset\n",
      "---------------------------\n",
      "\n",
      "**Data Set Characteristics:**  \n",
      "\n",
      "    :Number of Instances: 506 \n",
      "\n",
      "    :Number of Attributes: 13 numeric/categorical predictive. Median Value (attribute 14) is usually the target.\n",
      "\n",
      "    :Attribute Information (in order):\n",
      "        - CRIM     per capita crime rate by town\n",
      "        - ZN       proportion of residential land zoned for lots over 25,000 sq.ft.\n",
      "        - INDUS    proportion of non-retail business acres per town\n",
      "        - CHAS     Charles River dummy variable (= 1 if tract bounds river; 0 otherwise)\n",
      "        - NOX      nitric oxides concentration (parts per 10 million)\n",
      "        - RM       average number of rooms per dwelling\n",
      "        - AGE      proportion of owner-occupied units built prior to 1940\n",
      "        - DIS      weighted distances to five Boston employment centres\n",
      "        - RAD      index of accessibility to radial highways\n",
      "        - TAX      full-value property-tax rate per $10,000\n",
      "        - PTRATIO  pupil-teacher ratio by town\n",
      "        - B        1000(Bk - 0.63)^2 where Bk is the proportion of blacks by town\n",
      "        - LSTAT    % lower status of the population\n",
      "        - MEDV     Median value of owner-occupied homes in $1000's\n",
      "\n",
      "    :Missing Attribute Values: None\n",
      "\n",
      "    :Creator: Harrison, D. and Rubinfeld, D.L.\n",
      "\n",
      "This is a copy of UCI ML housing dataset.\n",
      "https://archive.ics.uci.edu/ml/machine-learning-databases/housing/\n",
      "\n",
      "\n",
      "This dataset was taken from the StatLib library which is maintained at Carnegie Mellon University.\n",
      "\n",
      "The Boston house-price data of Harrison, D. and Rubinfeld, D.L. 'Hedonic\n",
      "prices and the demand for clean air', J. Environ. Economics & Management,\n",
      "vol.5, 81-102, 1978.   Used in Belsley, Kuh & Welsch, 'Regression diagnostics\n",
      "...', Wiley, 1980.   N.B. Various transformations are used in the table on\n",
      "pages 244-261 of the latter.\n",
      "\n",
      "The Boston house-price data has been used in many machine learning papers that address regression\n",
      "problems.   \n",
      "     \n",
      ".. topic:: References\n",
      "\n",
      "   - Belsley, Kuh & Welsch, 'Regression diagnostics: Identifying Influential Data and Sources of Collinearity', Wiley, 1980. 244-261.\n",
      "   - Quinlan,R. (1993). Combining Instance-Based and Model-Based Learning. In Proceedings on the Tenth International Conference of Machine Learning, 236-243, University of Massachusetts, Amherst. Morgan Kaufmann.\n",
      "\n"
     ]
    }
   ],
   "source": [
    "#Importo librerie\n",
    "from sklearn import datasets, neighbors\n",
    "from sklearn.utils import shuffle\n",
    "from sklearn.preprocessing import MinMaxScaler\n",
    "from sklearn.neighbors import KNeighborsRegressor as KNN\n",
    "from sklearn.metrics import mean_absolute_error\n",
    "\n",
    "#Carico il dataset\n",
    "boston = datasets.load_boston()\n",
    "X, y = boston['data'], boston['target']\n",
    "\n",
    "print(boston['DESCR'])"
   ]
  },
  {
   "cell_type": "code",
   "execution_count": 41,
   "metadata": {},
   "outputs": [
    {
     "name": "stdout",
     "output_type": "stream",
     "text": [
      "Model MAE on test set: 2.845\n"
     ]
    }
   ],
   "source": [
    "#Scalo le feature tra 0 e 1\n",
    "scaler = MinMaxScaler()\n",
    "X = scaler.fit_transform(X)\n",
    "\n",
    "#Separo train e test\n",
    "X, y = shuffle(X, y, random_state=0)\n",
    "X_train, X_test = X[:400], X[400:]\n",
    "y_train, y_test = y[:400], y[400:]\n",
    "\n",
    "#Addestro il modello\n",
    "model = KNN(n_neighbors=3).fit(X_train, y_train)\n",
    "\n",
    "#Ottengo predizioni e valuto il mae\n",
    "predictions = model.predict(X_test)\n",
    "mae = mean_absolute_error(y_test, predictions)\n",
    "print('Model MAE on test set: {:.3f}'.format(mae))"
   ]
  },
  {
   "cell_type": "markdown",
   "metadata": {},
   "source": [
    "7.4\n",
    "---"
   ]
  },
  {
   "cell_type": "code",
   "execution_count": 42,
   "metadata": {},
   "outputs": [
    {
     "name": "stdout",
     "output_type": "stream",
     "text": [
      "(75, 4) (25, 4) (50, 4)\n"
     ]
    }
   ],
   "source": [
    "from sklearn.datasets import load_iris\n",
    "from sklearn.preprocessing import MinMaxScaler\n",
    "from sklearn.utils import shuffle\n",
    "from sklearn.neighbors import KNeighborsClassifier as KNN\n",
    "from sklearn.metrics import accuracy_score\n",
    "import numpy as np\n",
    "\n",
    "#Carico il dataset\n",
    "iris = load_iris()\n",
    "X, y = iris['data'], iris['target']\n",
    "\n",
    "#Scalo le feature tra 0 e 1\n",
    "scaler = MinMaxScaler()\n",
    "X = scaler.fit_transform(X)\n",
    "\n",
    "#Separo train , validation e test\n",
    "X, y = shuffle(X, y, random_state=123)\n",
    "X_tr, X_val, X_test = X[:75], X[75:100], X[100:]\n",
    "y_tr, y_val, y_test = y[:75], y[75:100], y[100:]\n",
    "\n",
    "print(X_tr.shape, X_val.shape, X_test.shape)"
   ]
  },
  {
   "cell_type": "code",
   "execution_count": 43,
   "metadata": {},
   "outputs": [
    {
     "name": "stdout",
     "output_type": "stream",
     "text": [
      "Validation accuracy with k 1: 0.92\n",
      "Validation accuracy with k 2: 0.96\n",
      "Validation accuracy with k 3: 0.92\n",
      "Validation accuracy with k 5: 0.92\n",
      "Validation accuracy with k 10: 0.92\n"
     ]
    }
   ],
   "source": [
    "for k in [1,2,3,5,10]:\n",
    "    model = KNN(n_neighbors=k)\n",
    "    model.fit(X_tr, y_tr)\n",
    "    predictions = model.predict(X_val)\n",
    "    validation_accuracy = accuracy_score(y_val, predictions)\n",
    "    print('Validation accuracy with k {}: {:.2f}'.format(k, validation_accuracy))   "
   ]
  },
  {
   "cell_type": "code",
   "execution_count": 44,
   "metadata": {},
   "outputs": [
    {
     "name": "stdout",
     "output_type": "stream",
     "text": [
      "(100, 4) (100,)\n"
     ]
    }
   ],
   "source": [
    "X_train = np.vstack([X_tr, X_val])\n",
    "y_train = np.hstack([y_tr, y_val])\n",
    "\n",
    "print(X_train.shape, y_train.shape)"
   ]
  },
  {
   "cell_type": "code",
   "execution_count": 45,
   "metadata": {},
   "outputs": [
    {
     "name": "stdout",
     "output_type": "stream",
     "text": [
      "Test accuracy: 0.96\n"
     ]
    }
   ],
   "source": [
    "predictions = KNN(n_neighbors=2).fit(X_train, y_train).predict(X_test)\n",
    "print('Test accuracy:', accuracy_score(y_test, predictions))"
   ]
  },
  {
   "cell_type": "markdown",
   "metadata": {},
   "source": [
    "In questo caso utilizzare tutti i dati del training set per il test finale non ha migliorato l'accuratezza del modello."
   ]
  },
  {
   "cell_type": "markdown",
   "metadata": {},
   "source": [
    "<script>\n",
    "  $(document).ready(function(){\n",
    "    $('div.back-to-top').hide();\n",
    "    $('nav#menubar').hide();\n",
    "    $('div.prompt').hide();\n",
    "    $('.hidden-print').hide();\n",
    "  });\n",
    "</script>\n",
    "\n",
    "<footer id=\"attribution\" style=\"float:right; color:#999; background:#fff;\">\n",
    "Created with Jupyter, delivered by Fastly, rendered by Rackspace.\n",
    "</footer>"
   ]
  }
 ],
 "metadata": {
  "kernelspec": {
   "display_name": "Python 3",
   "language": "python",
   "name": "python3"
  },
  "language_info": {
   "codemirror_mode": {
    "name": "ipython",
    "version": 3
   },
   "file_extension": ".py",
   "mimetype": "text/x-python",
   "name": "python",
   "nbconvert_exporter": "python",
   "pygments_lexer": "ipython3",
   "version": "3.8.5"
  }
 },
 "nbformat": 4,
 "nbformat_minor": 2
}
