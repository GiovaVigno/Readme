{
 "cells": [
  {
   "cell_type": "markdown",
   "metadata": {},
   "source": [
    "*Contenuti*\n",
    "===\n",
    "- [Info](#Info)\n",
    "- [Hello, world!](#Hello,-world!)\n",
    "- [Commenti](#Commenti)\n",
    "- [Variabili](#Variabili)\n",
    "- [Qualche tipo: stringhe e numeri](#Qualche-tipo:-stringhe-e-numeri)\n",
    "    - [Stringhe](#Stringhe)\n",
    "    - [Numeri: interi e float](#Numeri:-interi-e-float)\n",
    "    - [Stampare stringhe e numeri](#Stampare-stringhe-e-numeri)\n",
    "- [*Esercizio*](#Esercizio)"
   ]
  },
  {
   "cell_type": "markdown",
   "metadata": {},
   "source": [
    "Info\n",
    "---\n",
    "La parte introduttiva di questo tutorial è ispirata a http://introtopython.org.\n",
    "\n",
    "Su https://docs.python.org/3 trovate la documentazione ufficiale del linguaggio Python.\n",
    "\n",
    "Il *Python Data Science Handbook*, http://shop.oreilly.com/product/0636920034919.do, è un ottimo libro per imparare Python nel contesto della data science."
   ]
  },
  {
   "cell_type": "markdown",
   "metadata": {},
   "source": [
    "Hello, world!\n",
    "--\n",
    "La prima cosa che si fa con un nuovo linguaggio è stampare *Hello, world!*."
   ]
  },
  {
   "cell_type": "code",
   "execution_count": 1,
   "metadata": {},
   "outputs": [
    {
     "name": "stdout",
     "output_type": "stream",
     "text": [
      "Hello, world!\n"
     ]
    }
   ],
   "source": [
    "print('Hello, world!')"
   ]
  },
  {
   "cell_type": "markdown",
   "metadata": {},
   "source": [
    "Commenti\n",
    "---\n",
    "I *commenti* sono fondamentali nella programmazione: aiutano a scrivere, organizzare e leggere il codice."
   ]
  },
  {
   "cell_type": "code",
   "execution_count": 2,
   "metadata": {},
   "outputs": [
    {
     "name": "stdout",
     "output_type": "stream",
     "text": [
      "Questo non è un commento.\n"
     ]
    }
   ],
   "source": [
    "#Questo è un commento: non produce nessuna azione quando il codice viene compilato\n",
    "print('Questo non è un commento.')"
   ]
  },
  {
   "cell_type": "markdown",
   "metadata": {},
   "source": [
    "Variabili\n",
    "---\n",
    "Una *variabile* contiene un valore, che può essere cambiato in qualsiasi momento."
   ]
  },
  {
   "cell_type": "code",
   "execution_count": 3,
   "metadata": {},
   "outputs": [
    {
     "name": "stdout",
     "output_type": "stream",
     "text": [
      "Hello, world!\n"
     ]
    }
   ],
   "source": [
    "a = 'Hello, world!'\n",
    "print(a)"
   ]
  },
  {
   "cell_type": "code",
   "execution_count": 4,
   "metadata": {},
   "outputs": [
    {
     "name": "stdout",
     "output_type": "stream",
     "text": [
      "Ciao, mondo!\n"
     ]
    }
   ],
   "source": [
    "a = 'Ciao, mondo!'\n",
    "print(a)"
   ]
  },
  {
   "cell_type": "markdown",
   "metadata": {},
   "source": [
    "Qualche tipo: stringhe e numeri\n",
    "---\n",
    "Python intuisce da solo di che *tipo* è una variabile, in base a come questa viene dichiarata. Ci sono diversi tipi *built-in*, e il programmatore può definirne di nuovi."
   ]
  },
  {
   "cell_type": "code",
   "execution_count": 5,
   "metadata": {},
   "outputs": [
    {
     "name": "stdout",
     "output_type": "stream",
     "text": [
      "<class 'str'>\n"
     ]
    }
   ],
   "source": [
    "a = 'ciao'#dichiarata come stringa, cioè con gli apici\n",
    "print(type(a))#la funzione type restituisce il tipo di una variabile"
   ]
  },
  {
   "cell_type": "code",
   "execution_count": 6,
   "metadata": {},
   "outputs": [
    {
     "name": "stdout",
     "output_type": "stream",
     "text": [
      "<class 'int'>\n"
     ]
    }
   ],
   "source": [
    "a = 1#dichiarata come intero \n",
    "print(type(a))"
   ]
  },
  {
   "cell_type": "code",
   "execution_count": 7,
   "metadata": {},
   "outputs": [
    {
     "name": "stdout",
     "output_type": "stream",
     "text": [
      "<class 'float'>\n"
     ]
    }
   ],
   "source": [
    "a = 1.1#float (decimale)\n",
    "print(type(a))"
   ]
  },
  {
   "cell_type": "code",
   "execution_count": 8,
   "metadata": {},
   "outputs": [
    {
     "name": "stdout",
     "output_type": "stream",
     "text": [
      "<class 'list'>\n"
     ]
    }
   ],
   "source": [
    "a = []#lista\n",
    "print(type(a))"
   ]
  },
  {
   "cell_type": "markdown",
   "metadata": {},
   "source": [
    "### Stringhe\n",
    "\n",
    "Una *stringa* è un insieme ordinato di caratteri. Può essere contenuta da 'singoli' o \"doppi\" apici, non fa differenza."
   ]
  },
  {
   "cell_type": "code",
   "execution_count": 9,
   "metadata": {},
   "outputs": [
    {
     "name": "stdout",
     "output_type": "stream",
     "text": [
      "ciao mamma!\n"
     ]
    }
   ],
   "source": [
    "a = 'ciao mamma!'\n",
    "print(a)"
   ]
  },
  {
   "cell_type": "code",
   "execution_count": 10,
   "metadata": {},
   "outputs": [
    {
     "name": "stdout",
     "output_type": "stream",
     "text": [
      "ciao mamma!\n"
     ]
    }
   ],
   "source": [
    "b = \"ciao mamma!\"\n",
    "print(b)"
   ]
  },
  {
   "cell_type": "markdown",
   "metadata": {},
   "source": [
    "Alle stringhe (come a tutti i tipi di variabili) possono essere applicate delle azioni, che si chiamano *metodi* o *funzioni*. Vedremo le funzioni più in dettaglio in seguito, nella Lezione 5."
   ]
  },
  {
   "cell_type": "code",
   "execution_count": 11,
   "metadata": {},
   "outputs": [
    {
     "name": "stdout",
     "output_type": "stream",
     "text": [
      "francesco\n"
     ]
    }
   ],
   "source": [
    "a = 'Francesco'\n",
    "print(a.lower())#trasforma la stringa in minuscolo"
   ]
  },
  {
   "cell_type": "code",
   "execution_count": 12,
   "metadata": {},
   "outputs": [
    {
     "name": "stdout",
     "output_type": "stream",
     "text": [
      "FRANCESCO\n"
     ]
    }
   ],
   "source": [
    "print(a.upper())#trasforma la stringa in maiuscolo"
   ]
  },
  {
   "cell_type": "code",
   "execution_count": 13,
   "metadata": {},
   "outputs": [
    {
     "name": "stdout",
     "output_type": "stream",
     "text": [
      "Francesca\n"
     ]
    }
   ],
   "source": [
    "b = a.replace('o','a')#costruisce una nuova stringa operando una sostituzione di carattere\n",
    "print(b)"
   ]
  },
  {
   "cell_type": "markdown",
   "metadata": {},
   "source": [
    "Le stringhe possono essere combinate tra loro e stampate."
   ]
  },
  {
   "cell_type": "code",
   "execution_count": 14,
   "metadata": {},
   "outputs": [
    {
     "name": "stdout",
     "output_type": "stream",
     "text": [
      "Ciao mamma, guarda come mi diverto\n"
     ]
    }
   ],
   "source": [
    "a = 'Ciao mamma, guarda come'\n",
    "b = 'mi diverto'\n",
    "print(a + ' ' + b)"
   ]
  },
  {
   "cell_type": "code",
   "execution_count": 15,
   "metadata": {},
   "outputs": [
    {
     "name": "stdout",
     "output_type": "stream",
     "text": [
      "Ciao mamma, guarda come mi diverto\n"
     ]
    }
   ],
   "source": [
    "a = 'Ciao mamma, guarda come'\n",
    "b = ' mi diverto'\n",
    "print(a + b)"
   ]
  },
  {
   "cell_type": "markdown",
   "metadata": {},
   "source": [
    "La combinazione di due o più stringhe è una nuova stringa."
   ]
  },
  {
   "cell_type": "code",
   "execution_count": 16,
   "metadata": {},
   "outputs": [
    {
     "name": "stdout",
     "output_type": "stream",
     "text": [
      "Ciao mamma, guarda come mi diverto\n"
     ]
    }
   ],
   "source": [
    "a = 'Ciao mamma, guarda come'\n",
    "b = ' mi diverto'\n",
    "c =  a + b\n",
    "print(c)"
   ]
  },
  {
   "cell_type": "code",
   "execution_count": 17,
   "metadata": {},
   "outputs": [
    {
     "name": "stdout",
     "output_type": "stream",
     "text": [
      "<class 'str'>\n"
     ]
    }
   ],
   "source": [
    "print(type(c))"
   ]
  },
  {
   "cell_type": "markdown",
   "metadata": {},
   "source": [
    "### Numeri: interi e float\n",
    "\n",
    "*int* (numeri interi) e *float* (numeri decimali) sono altri due tipi built-in di Python. "
   ]
  },
  {
   "cell_type": "code",
   "execution_count": 18,
   "metadata": {},
   "outputs": [
    {
     "name": "stdout",
     "output_type": "stream",
     "text": [
      "2.0\n"
     ]
    }
   ],
   "source": [
    "a = 1#intero\n",
    "b = 1.0#float\n",
    "c = a + b\n",
    "print(c)"
   ]
  },
  {
   "cell_type": "markdown",
   "metadata": {},
   "source": [
    "Per convenzione, operazioni tra interi e float restituiscono float."
   ]
  },
  {
   "cell_type": "code",
   "execution_count": 19,
   "metadata": {},
   "outputs": [
    {
     "name": "stdout",
     "output_type": "stream",
     "text": [
      "<class 'float'>\n"
     ]
    }
   ],
   "source": [
    "print(type(c))"
   ]
  },
  {
   "cell_type": "markdown",
   "metadata": {},
   "source": [
    "Le operazioni aritmetiche hanno una priorità: moltiplicazione e divisione vengono eseguite per prime. La priorità viene alterata dalle parentesi."
   ]
  },
  {
   "cell_type": "code",
   "execution_count": 20,
   "metadata": {},
   "outputs": [
    {
     "name": "stdout",
     "output_type": "stream",
     "text": [
      "15\n"
     ]
    }
   ],
   "source": [
    "print(2*10-5)#2*10 viene eseguito prima"
   ]
  },
  {
   "cell_type": "code",
   "execution_count": 21,
   "metadata": {},
   "outputs": [
    {
     "name": "stdout",
     "output_type": "stream",
     "text": [
      "10\n"
     ]
    }
   ],
   "source": [
    "print(2*(10-5))#adesso 10-5 viene eseguito prima"
   ]
  },
  {
   "cell_type": "markdown",
   "metadata": {},
   "source": [
    "Il computer rappresenta i numeri in base 2, a differenza nostra che pensiamo in base 10 (tranne un mio ex compagno di corso un po' strano che ragionava in base 2). Questo dà luogo a comportamenti inaspettati, che non hanno niente a che vedere con Python."
   ]
  },
  {
   "cell_type": "code",
   "execution_count": 22,
   "metadata": {},
   "outputs": [
    {
     "name": "stdout",
     "output_type": "stream",
     "text": [
      "0.30000000000000004\n"
     ]
    }
   ],
   "source": [
    "a = 0.1\n",
    "b = 0.2\n",
    "c = a+b\n",
    "print(c)#non c'è modo di rappresentare in modo esatto 0.3 in base 2"
   ]
  },
  {
   "cell_type": "code",
   "execution_count": 23,
   "metadata": {},
   "outputs": [
    {
     "data": {
      "text/plain": [
       "0.3"
      ]
     },
     "execution_count": 23,
     "metadata": {},
     "output_type": "execute_result"
    }
   ],
   "source": [
    "round(c, 1)#arrotondamento alla prima cifra decimale; round è un metodo built-in, come print"
   ]
  },
  {
   "cell_type": "markdown",
   "metadata": {},
   "source": [
    "### Stampare stringhe e numeri"
   ]
  },
  {
   "cell_type": "code",
   "execution_count": 24,
   "metadata": {},
   "outputs": [
    {
     "ename": "TypeError",
     "evalue": "must be str, not int",
     "output_type": "error",
     "traceback": [
      "\u001b[0;31m---------------------------------------------------------------------------\u001b[0m",
      "\u001b[0;31mTypeError\u001b[0m                                 Traceback (most recent call last)",
      "\u001b[0;32m<ipython-input-24-107743dacd8a>\u001b[0m in \u001b[0;36m<module>\u001b[0;34m\u001b[0m\n\u001b[1;32m      1\u001b[0m \u001b[0ma\u001b[0m \u001b[0;34m=\u001b[0m \u001b[0;34m'Oggi è il'\u001b[0m\u001b[0;34m\u001b[0m\u001b[0m\n\u001b[1;32m      2\u001b[0m \u001b[0mb\u001b[0m \u001b[0;34m=\u001b[0m \u001b[0;36m28\u001b[0m\u001b[0;34m\u001b[0m\u001b[0m\n\u001b[0;32m----> 3\u001b[0;31m \u001b[0mprint\u001b[0m\u001b[0;34m(\u001b[0m\u001b[0ma\u001b[0m \u001b[0;34m+\u001b[0m \u001b[0;34m' '\u001b[0m \u001b[0;34m+\u001b[0m \u001b[0mb\u001b[0m\u001b[0;34m)\u001b[0m\u001b[0;31m#somma di stringhe e intero, che causa un errore\u001b[0m\u001b[0;34m\u001b[0m\u001b[0m\n\u001b[0m",
      "\u001b[0;31mTypeError\u001b[0m: must be str, not int"
     ]
    }
   ],
   "source": [
    "a = 'Oggi è il'\n",
    "b = 28\n",
    "print(a + ' ' + b)#somma di stringhe e intero, che causa un errore"
   ]
  },
  {
   "cell_type": "markdown",
   "metadata": {},
   "source": [
    "L'errore è dovuto al tentativo di somma, dentro le parentesi di print, di una stringa con un intero. Si può trasformare l'intero in stringa prima di stamparlo, o lasciarlo fare al metodo print."
   ]
  },
  {
   "cell_type": "code",
   "execution_count": 25,
   "metadata": {},
   "outputs": [
    {
     "name": "stdout",
     "output_type": "stream",
     "text": [
      "Oggi è il 28\n"
     ]
    }
   ],
   "source": [
    "print(a + ' ' + str(b))"
   ]
  },
  {
   "cell_type": "code",
   "execution_count": 26,
   "metadata": {},
   "outputs": [
    {
     "name": "stdout",
     "output_type": "stream",
     "text": [
      "Oggi è il 28\n"
     ]
    }
   ],
   "source": [
    "print(a, b)#conversione automatica"
   ]
  },
  {
   "cell_type": "markdown",
   "metadata": {},
   "source": [
    "Lo stesso vale per i float."
   ]
  },
  {
   "cell_type": "code",
   "execution_count": 27,
   "metadata": {},
   "outputs": [
    {
     "name": "stdout",
     "output_type": "stream",
     "text": [
      "Oggi ci sono 25.7 gradi\n"
     ]
    }
   ],
   "source": [
    "a = 'Oggi ci sono'\n",
    "b = 25.7\n",
    "c = 'gradi'\n",
    "print(a,b,c)#ok"
   ]
  },
  {
   "cell_type": "markdown",
   "metadata": {},
   "source": [
    "Attraverso i *segnaposto* le stampe complesse possono essere gestite in modo più compatto."
   ]
  },
  {
   "cell_type": "code",
   "execution_count": 28,
   "metadata": {},
   "outputs": [
    {
     "name": "stdout",
     "output_type": "stream",
     "text": [
      "Oggi è il 28 di maggio\n"
     ]
    }
   ],
   "source": [
    "print('Oggi è il {} di maggio'.format(28))#{} è un segnaposto"
   ]
  },
  {
   "cell_type": "code",
   "execution_count": 29,
   "metadata": {},
   "outputs": [
    {
     "name": "stdout",
     "output_type": "stream",
     "text": [
      "Oggi ci sono 25.7 gradi\n"
     ]
    }
   ],
   "source": [
    "print('Oggi ci sono {} gradi'.format(25.7))"
   ]
  },
  {
   "cell_type": "code",
   "execution_count": 30,
   "metadata": {},
   "outputs": [
    {
     "name": "stdout",
     "output_type": "stream",
     "text": [
      "Ho 30 anni e peso 60.5 chili\n"
     ]
    }
   ],
   "source": [
    "print('Ho {} anni e peso {} chili'.format(30, 60.5))#comodo quando devo inserire diversi valori"
   ]
  },
  {
   "cell_type": "code",
   "execution_count": 31,
   "metadata": {},
   "outputs": [
    {
     "name": "stdout",
     "output_type": "stream",
     "text": [
      "Dieci diviso per tre fa 3.3333333333333335\n"
     ]
    }
   ],
   "source": [
    "print('Dieci diviso per tre fa', 10/3)"
   ]
  },
  {
   "cell_type": "code",
   "execution_count": 32,
   "metadata": {},
   "outputs": [
    {
     "name": "stdout",
     "output_type": "stream",
     "text": [
      "Dieci diviso per tre fa 3.3333333333333335\n"
     ]
    }
   ],
   "source": [
    "print('Dieci diviso per tre fa {}'.format(10/3))"
   ]
  },
  {
   "cell_type": "code",
   "execution_count": 45,
   "metadata": {},
   "outputs": [
    {
     "name": "stdout",
     "output_type": "stream",
     "text": [
      "Dieci diviso per tre fa circa 3.333\n"
     ]
    }
   ],
   "source": [
    "print('Dieci diviso per tre fa circa {:.3f}'.format(10/3))#.3f è il formato desiderato"
   ]
  },
  {
   "cell_type": "code",
   "execution_count": 46,
   "metadata": {},
   "outputs": [
    {
     "name": "stdout",
     "output_type": "stream",
     "text": [
      "Dieci diviso per tre fa circa 3.3333333333333335\n"
     ]
    }
   ],
   "source": [
    "print(f'Dieci diviso per tre fa circa {10/3}')#f-string: valore dentro il segnaposto"
   ]
  },
  {
   "cell_type": "code",
   "execution_count": 47,
   "metadata": {},
   "outputs": [
    {
     "name": "stdout",
     "output_type": "stream",
     "text": [
      "Dieci diviso per tre fa circa 3.33\n"
     ]
    }
   ],
   "source": [
    "print(f'Dieci diviso per tre fa circa {10/3:.2f}')#f-string: il formato va dopo il valore"
   ]
  },
  {
   "cell_type": "markdown",
   "metadata": {},
   "source": [
    "***Esercizio***\n",
    "---\n",
    "- dichiarare due variabili numeriche\n",
    "- eseguire un'operazione qualsiasi che le coinvolga\n",
    "- salvare il risultato in un terza variabile\n",
    "- stampare il risultato nella forma *Il risultato è ... ed è di tipo ...*\n",
    "- se il risultato è un float, stampare solo le prime 3 cifre decimali\n",
    "- commentare le righe del codice con il significato delle azioni corrispondenti"
   ]
  },
  {
   "cell_type": "code",
   "execution_count": 3,
   "metadata": {},
   "outputs": [],
   "source": [
    "#FILL ME"
   ]
  },
  {
   "cell_type": "markdown",
   "metadata": {},
   "source": [
    "<script>\n",
    "  $(document).ready(function(){\n",
    "    $('div.back-to-top').hide();\n",
    "    $('nav#menubar').hide();\n",
    "    $('div.prompt').hide();\n",
    "    $('.hidden-print').hide();\n",
    "  });\n",
    "</script>\n",
    "\n",
    "<footer id=\"attribution\" style=\"float:right; color:#999; background:#fff;\">\n",
    "Created with Jupyter, delivered by Fastly, rendered by Rackspace.\n",
    "</footer>"
   ]
  }
 ],
 "metadata": {
  "kernelspec": {
   "display_name": "Python 3",
   "language": "python",
   "name": "python3"
  },
  "language_info": {
   "codemirror_mode": {
    "name": "ipython",
    "version": 3
   },
   "file_extension": ".py",
   "mimetype": "text/x-python",
   "name": "python",
   "nbconvert_exporter": "python",
   "pygments_lexer": "ipython3",
   "version": "3.6.6"
  }
 },
 "nbformat": 4,
 "nbformat_minor": 2
}
