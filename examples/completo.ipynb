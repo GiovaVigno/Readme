{
 "cells": [
  {
   "cell_type": "code",
   "execution_count": 1,
   "metadata": {},
   "outputs": [],
   "source": [
    "import pandas as pd\n",
    "import numpy as np\n",
    "\n",
    "from sklearn_pandas import DataFrameMapper as DFM\n",
    "\n",
    "from sklearn.preprocessing import LabelBinarizer, StandardScaler\n",
    "from sklearn.model_selection import GridSearchCV as KCV\n",
    "from sklearn.ensemble import RandomForestClassifier as RF\n",
    "from sklearn.svm import SVC"
   ]
  },
  {
   "cell_type": "code",
   "execution_count": 2,
   "metadata": {},
   "outputs": [],
   "source": [
    "#carico dati\n",
    "df_train = pd.read_csv('../data/train.csv', header = 0, index_col = 'PassengerId')\n",
    "df_test = pd.read_csv('../data/test.csv', header = 0, index_col = 'PassengerId')\n",
    "df = pd.concat([df_train, df_test], keys=['train', 'test'], sort=False)\n",
    "\n",
    "#nuove colonne\n",
    "df['Title'] = df['Name'].apply(lambda name: name[name.index(',') + 2 : name.index('.')])\n",
    "df['LastName'] = df['Name'].apply(lambda name: name[0:name.index(',')])\n",
    "df['FamilySize'] = (df['SibSp'] + df['Parch'] + 1).astype(float)\n",
    "df.Pclass = df.Pclass.astype(float)\n",
    "\n",
    "#fillna:\n",
    "df.Embarked.fillna(df.Embarked.mode()[0], inplace=True)\n",
    "#\n",
    "df.Fare = df.groupby(['Pclass', 'Embarked']).Fare.apply(lambda x : x.fillna(x.loc['train'].mean()))\n",
    "#\n",
    "median_age_by_title = pd.DataFrame(df.groupby('Title')['Age'].median())\n",
    "median_age_by_title.rename(columns = {'Age': 'MedianAgeByTitle'}, inplace=True)\n",
    "df = df.merge(median_age_by_title, left_on='Title', right_index=True)\n",
    "df.Age.fillna(df.MedianAgeByTitle, inplace=True)\n",
    "df.drop(columns=['MedianAgeByTitle'], inplace=True)\n",
    "\n",
    "#elimino colonne che non uso per addestramento\n",
    "df.drop(columns=['Cabin', 'Parch', 'SibSp', 'Name', 'LastName', 'Ticket'], inplace=True)\n",
    "\n",
    "#separo train e test, dati e target\n",
    "train_df, test_df = df.loc['train'], df.loc['test']\n",
    "#\n",
    "train_targets = train_df.pop('Survived')\n",
    "train_data = train_df\n",
    "#\n",
    "test_data = test_df.drop(columns=['Survived'])\n",
    "test_IDs = test_df.index.values\n",
    "\n",
    "#costruisco mapper e trasformo\n",
    "mapper = DFM([(['Age', 'Fare', 'FamilySize', 'Pclass'], StandardScaler()),\n",
    "              *[(s, LabelBinarizer()) for s in ['Embarked', 'Sex', 'Title']]])\n",
    "train_data = mapper.fit_transform(train_data)\n",
    "test_data = mapper.transform(test_data)"
   ]
  },
  {
   "cell_type": "code",
   "execution_count": 3,
   "metadata": {},
   "outputs": [
    {
     "name": "stdout",
     "output_type": "stream",
     "text": [
      "Model with rank: 1\n",
      "Mean validation score: 0.817 (std: 0.198)\n",
      "Parameters: {'C': 4, 'gamma': 0.03125}\n",
      "\n",
      "Model with rank: 2\n",
      "Mean validation score: 0.815 (std: 0.196)\n",
      "Parameters: {'C': 2, 'gamma': 0.0625}\n",
      "\n",
      "Model with rank: 3\n",
      "Mean validation score: 0.813 (std: 0.173)\n",
      "Parameters: {'C': 0.25, 'gamma': 0.25}\n",
      "\n"
     ]
    }
   ],
   "source": [
    "#addestramento e validazione\n",
    "def cv_report(cv, n_top=3):\n",
    "    \"\"\"\n",
    "    report crossvalidation results\n",
    "    \"\"\"\n",
    "    results = cv.cv_results_\n",
    "    for i in range(1, n_top + 1):\n",
    "        candidates = np.flatnonzero(results['rank_test_score'] == i)\n",
    "        for candidate in candidates:\n",
    "            print('Model with rank: {0}'.format(i))\n",
    "            print('Mean validation score: {0:.3f} (std: {1:.3f})'.format(\n",
    "                  results['mean_test_score'][candidate],\n",
    "                  results['std_test_score'][candidate]))\n",
    "            print('Parameters: {0}'.format(results['params'][candidate]))\n",
    "            print('')\n",
    "\n",
    "#svm\n",
    "kcv = KCV(SVC(),\n",
    "          param_grid=[{'C'     : [2**i for i in range(-5,6)],\n",
    "                       'gamma' : [2**i for i in range(-5,6)]}],\n",
    "          cv=10).fit(train_data, train_targets)\n",
    "\n",
    "cv_report(kcv)"
   ]
  },
  {
   "cell_type": "code",
   "execution_count": 4,
   "metadata": {},
   "outputs": [],
   "source": [
    "#preparo sottomissione\n",
    "sub = pd.DataFrame({'PassengerId': test_IDs,\n",
    "                    'Survived'   : kcv.best_estimator_.predict(test_data).astype(int)})\n",
    "\n",
    "sub.to_csv('../data/subs/ciccio.csv', index=False)"
   ]
  }
 ],
 "metadata": {
  "kernelspec": {
   "display_name": "Python 3",
   "language": "python",
   "name": "python3"
  },
  "language_info": {
   "codemirror_mode": {
    "name": "ipython",
    "version": 3
   },
   "file_extension": ".py",
   "mimetype": "text/x-python",
   "name": "python",
   "nbconvert_exporter": "python",
   "pygments_lexer": "ipython3",
   "version": "3.6.6"
  }
 },
 "nbformat": 4,
 "nbformat_minor": 2
}
